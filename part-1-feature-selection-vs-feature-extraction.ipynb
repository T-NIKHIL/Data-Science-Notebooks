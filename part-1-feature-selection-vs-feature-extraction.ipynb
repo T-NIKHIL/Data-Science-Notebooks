{
 "cells": [
  {
   "cell_type": "markdown",
   "metadata": {
    "papermill": {
     "duration": 0.020602,
     "end_time": "2020-11-15T05:14:09.895758",
     "exception": false,
     "start_time": "2020-11-15T05:14:09.875156",
     "status": "completed"
    },
    "tags": []
   },
   "source": [
    "Importing required libraries ..."
   ]
  },
  {
   "cell_type": "code",
   "execution_count": 1,
   "metadata": {
    "_cell_guid": "b1076dfc-b9ad-4769-8c92-a6c4dae69d19",
    "_uuid": "8f2839f25d086af736a60e9eeb907d3b93b6e0e5",
    "execution": {
     "iopub.execute_input": "2020-11-15T05:14:09.943073Z",
     "iopub.status.busy": "2020-11-15T05:14:09.942179Z",
     "iopub.status.idle": "2020-11-15T05:14:09.950175Z",
     "shell.execute_reply": "2020-11-15T05:14:09.949114Z"
    },
    "papermill": {
     "duration": 0.034547,
     "end_time": "2020-11-15T05:14:09.950361",
     "exception": false,
     "start_time": "2020-11-15T05:14:09.915814",
     "status": "completed"
    },
    "tags": []
   },
   "outputs": [
    {
     "name": "stdout",
     "output_type": "stream",
     "text": [
      "/kaggle/input/red-wine-quality-cortez-et-al-2009/winequality-red.csv\n"
     ]
    }
   ],
   "source": [
    "import csv\n",
    "import os\n",
    "import numpy as np\n",
    "# For creating the heatmaps\n",
    "import matplotlib.pyplot as plt\n",
    "import math\n",
    "\n",
    "for dirname, _, filenames in os.walk('/kaggle/input'):\n",
    "    for filename in filenames:\n",
    "        print(os.path.join(dirname, filename))\n",
    "\n",
    "# You can write up to 5GB to the current directory (/kaggle/working/) that gets preserved as output when you create a version using \"Save & Run All\" \n",
    "# You can also write temporary files to /kaggle/temp/, but they won't be saved outside of the current session "
   ]
  },
  {
   "cell_type": "markdown",
   "metadata": {
    "papermill": {
     "duration": 0.019812,
     "end_time": "2020-11-15T05:14:09.992106",
     "exception": false,
     "start_time": "2020-11-15T05:14:09.972294",
     "status": "completed"
    },
    "tags": []
   },
   "source": [
    "# Extracting the features from the csv file"
   ]
  },
  {
   "cell_type": "code",
   "execution_count": 2,
   "metadata": {
    "execution": {
     "iopub.execute_input": "2020-11-15T05:14:10.053444Z",
     "iopub.status.busy": "2020-11-15T05:14:10.052589Z",
     "iopub.status.idle": "2020-11-15T05:14:10.093589Z",
     "shell.execute_reply": "2020-11-15T05:14:10.092797Z"
    },
    "papermill": {
     "duration": 0.081454,
     "end_time": "2020-11-15T05:14:10.093724",
     "exception": false,
     "start_time": "2020-11-15T05:14:10.012270",
     "status": "completed"
    },
    "tags": []
   },
   "outputs": [
    {
     "name": "stdout",
     "output_type": "stream",
     "text": [
      "Size of total data : 1599\n",
      "['Fixed Acidity', 'Volatile Acidity', 'Citric Acid', 'Residual Sugar', 'Chlorides', 'Free sulphur Dioxide', 'Total sulphur Dioxide', 'Density', 'pH', 'Sulphates', 'Alcohol']\n",
      "Data head :\n",
      "[[7.400e+00 7.000e-01 0.000e+00 1.900e+00 7.600e-02 1.100e+01 3.400e+01\n",
      "  9.978e-01 3.510e+00 5.600e-01 9.400e+00]\n",
      " [7.800e+00 8.800e-01 0.000e+00 2.600e+00 9.800e-02 2.500e+01 6.700e+01\n",
      "  9.968e-01 3.200e+00 6.800e-01 9.800e+00]\n",
      " [7.800e+00 7.600e-01 4.000e-02 2.300e+00 9.200e-02 1.500e+01 5.400e+01\n",
      "  9.970e-01 3.260e+00 6.500e-01 9.800e+00]\n",
      " [1.120e+01 2.800e-01 5.600e-01 1.900e+00 7.500e-02 1.700e+01 6.000e+01\n",
      "  9.980e-01 3.160e+00 5.800e-01 9.800e+00]\n",
      " [7.400e+00 7.000e-01 0.000e+00 1.900e+00 7.600e-02 1.100e+01 3.400e+01\n",
      "  9.978e-01 3.510e+00 5.600e-01 9.400e+00]]\n"
     ]
    }
   ],
   "source": [
    "file_name = \"../input/red-wine-quality-cortez-et-al-2009/winequality-red.csv\"\n",
    "with open(file_name,'r') as csvfile:\n",
    "    reader = csv.DictReader(csvfile, restkey = None, restval = None, dialect = 'excel')    \n",
    "    # reader is a reader object and hence to convert into iterable have to convert to list.\n",
    "    data = list(reader)\n",
    "    \n",
    "list_len = len(data)\n",
    "print('Size of total data : {}'.format(list_len))\n",
    "\n",
    "# Feature matrix\n",
    "X = np.zeros((list_len,11), dtype = float)\n",
    "# Target vector\n",
    "Y = np.zeros((list_len,1), dtype = float)\n",
    "\n",
    "# Transfer data into respective feature vectors\n",
    "for i in range(0,list_len):\n",
    "    # data is a list of dictionaries. data[i] is a dictionary. data[i].values provides the values to the corresponding keys. list(data[i].values) converts it into a list\n",
    "    values = list(data[i].values())\n",
    "\n",
    "    X[i,0] = values[0]\n",
    "    X[i,1] = values[1]\n",
    "    X[i,2] = values[2]\n",
    "    X[i,3] = values[3]\n",
    "    X[i,4] = values[4]\n",
    "    X[i,5] = values[5]\n",
    "    X[i,6] = values[6]\n",
    "    X[i,7] = values[7]\n",
    "    X[i,8] = values[8]\n",
    "    X[i,9] = values[9]\n",
    "    X[i,10] = values[10]\n",
    "    Y[i,0] = values[11]\n",
    "\n",
    "X_Labels = [\"Fixed Acidity\", \"Volatile Acidity\", \"Citric Acid\", \"Residual Sugar\", \"Chlorides\", \"Free sulphur Dioxide\", \"Total sulphur Dioxide\", \"Density\", \"pH\" ,\"Sulphates\", \"Alcohol\"]\n",
    "Labels = [\"Fixed Acidity\", \"Volatile Acidity\", \"Citric Acid\", \"Residual Sugar\", \"Chlorides\", \"Free sulphur Dioxide\", \"Total sulphur Dioxide\", \"Density\", \"pH\" ,\"Sulphates\", \"Alcohol\",\"Quality\"]\n",
    "\n",
    "print(X_Labels)\n",
    "\n",
    "print(\"Data head :\")\n",
    "print(X[0:5,:])"
   ]
  },
  {
   "cell_type": "markdown",
   "metadata": {
    "papermill": {
     "duration": 0.02093,
     "end_time": "2020-11-15T05:14:10.135270",
     "exception": false,
     "start_time": "2020-11-15T05:14:10.114340",
     "status": "completed"
    },
    "tags": []
   },
   "source": [
    "# What are features ?"
   ]
  },
  {
   "cell_type": "markdown",
   "metadata": {
    "papermill": {
     "duration": 0.020294,
     "end_time": "2020-11-15T05:14:10.176292",
     "exception": false,
     "start_time": "2020-11-15T05:14:10.155998",
     "status": "completed"
    },
    "tags": []
   },
   "source": [
    "Features are the input data which a machine learning algorithm trains on to predict an output. For example a machine learning algorithm which predicts price of a house could take features such as number of bedrooms, size of house, number of ammenities etc as input."
   ]
  },
  {
   "cell_type": "markdown",
   "metadata": {
    "papermill": {
     "duration": 0.02056,
     "end_time": "2020-11-15T05:14:10.217542",
     "exception": false,
     "start_time": "2020-11-15T05:14:10.196982",
     "status": "completed"
    },
    "tags": []
   },
   "source": [
    "# 1. Feature Selection"
   ]
  },
  {
   "cell_type": "markdown",
   "metadata": {
    "papermill": {
     "duration": 0.020302,
     "end_time": "2020-11-15T05:14:10.258937",
     "exception": false,
     "start_time": "2020-11-15T05:14:10.238635",
     "status": "completed"
    },
    "tags": []
   },
   "source": [
    "## The number of features and the variance in each feature are important factors to consider before building the model.\n",
    "\n",
    "* If too many features are fed into the model it may overfit and lose its ability to generalize. \n",
    "* If there isn't much variance in your features then that feature will likely not influence the target varable and hence can be eliminated.\n",
    "\n",
    "In this tutorial I will be going over the maths of some the algorithms in feature selection and feature elimination and using these algorithms in a red wine quality dataset.\n",
    "\n",
    "In feature selection, you have a set of features and you want to select a subset from those features which influence the target variable the greatest.\n",
    "\n",
    "Advantanges of using feature selection are :\n",
    "\n",
    "* It allows models to be simplified making them easier to be interpreted and leads to better generalization.\n",
    "* Shorter training times\n",
    "\n",
    "Feature selection process is a combinatorial optimization problem. A combinatorial optimization problem aims to use combinatorial techniques to solve discrete optimization problems. A discrete optimization problem seeks to find the best possible solution from a finite set of possibilities. To overcome this problem it is frequently assumed either that features independently influence the class variable or do so only involving pairwise feature interaction.\n",
    "\n",
    "Three main categories of feature selection algorithms are wrappers, filters and embedded methods."
   ]
  },
  {
   "cell_type": "markdown",
   "metadata": {
    "papermill": {
     "duration": 0.020138,
     "end_time": "2020-11-15T05:14:10.300386",
     "exception": false,
     "start_time": "2020-11-15T05:14:10.280248",
     "status": "completed"
    },
    "tags": []
   },
   "source": [
    "# 1.1 Filter Method\n",
    "\n",
    "![Filter methods](https://upload.wikimedia.org/wikipedia/commons/2/2c/Filter_Methode.png)\n",
    "\n",
    "> Reference : https://en.wikipedia.org/wiki/Feature_selection\n",
    "\n",
    "Filter methods stand apart in the sense that they select the features independent of the model. They are selected based on the correlation with the target variable. The features that contribute the least to the target variable prediction are suppressed and the ones that pass are selected to be passed on to a classification or a regression model.\n",
    "\n",
    "They are effective in computation time and robust to overfitting.\n",
    "\n",
    "There are two types of filter methods:\n",
    "\n",
    "1. Univariate filter methods : evaluate and rank single features. Each feature is treated independent of the feature space.\n",
    "\n",
    "2. Mulitivariate filter methods : These methods evaluate the entire feature space. They take into account the relationships between the features."
   ]
  },
  {
   "cell_type": "markdown",
   "metadata": {
    "papermill": {
     "duration": 0.020192,
     "end_time": "2020-11-15T05:14:10.341257",
     "exception": false,
     "start_time": "2020-11-15T05:14:10.321065",
     "status": "completed"
    },
    "tags": []
   },
   "source": [
    "# 1.1.1 Basic Filter Methods\n",
    "\n",
    "These are methods to drop features which have for example constant values, a value which occupies a majority of the dataset and features which have duplicate values."
   ]
  },
  {
   "cell_type": "markdown",
   "metadata": {
    "papermill": {
     "duration": 0.020215,
     "end_time": "2020-11-15T05:14:10.382048",
     "exception": false,
     "start_time": "2020-11-15T05:14:10.361833",
     "status": "completed"
    },
    "tags": []
   },
   "source": [
    "# 1.1.2 Correlation Filter Methods\n",
    "\n",
    "A simple definition for what correlation means is the relationship between two variables. These methods try to measure the correlation between the feature and its target and select the ones which are highly correlated with the target. If two variables are highly correlated with each other then we require only one variable to predict the target and the other becomes redundant and can be eliminated (can be measured using multivariate methods).\n",
    "\n",
    "Pearson's correlation coefficient (PCC) is the most common linear coefficient measuring the degree of correlation between two variables and is denoted by *r*.\n",
    "\n",
    "*r* ranges between +1 and -1 and a value of +1 means that there is a pefect positive relation between the variables and are related by an increasing linear function. A value of -1 means that there is a perfect negative relation between the variables and are related by a decreasing function. A value of 0 means no predictive strength between the variables.\n",
    "\n",
    "### $$r = \\dfrac{\\sum_{i=1}^{n} (x_i - \\mu_x)(y_i - \\mu_y)}{\\sqrt{\\sum_{i=1}^{n} (x_i - \\mu_x)^2}\\sqrt{\\sum_{i=1}^{n} (y_i - \\mu_y)^2}}$$\n",
    "\n",
    "The above formula can also be written as:\n",
    "\n",
    "### $$r = \\dfrac{Cov(x,y)}{\\sigma_x\\sigma_y}$$\n",
    "\n",
    "where,\n",
    "\n",
    "### $$Cov(x,y) = \\dfrac{\\sum_{i=1}^{n} (x_i - \\mu_x)(y_i - \\mu_y)}{n-1}$$"
   ]
  },
  {
   "cell_type": "code",
   "execution_count": 3,
   "metadata": {
    "execution": {
     "iopub.execute_input": "2020-11-15T05:14:10.488327Z",
     "iopub.status.busy": "2020-11-15T05:14:10.446000Z",
     "iopub.status.idle": "2020-11-15T05:14:12.637156Z",
     "shell.execute_reply": "2020-11-15T05:14:12.637795Z"
    },
    "papermill": {
     "duration": 2.235615,
     "end_time": "2020-11-15T05:14:12.637964",
     "exception": false,
     "start_time": "2020-11-15T05:14:10.402349",
     "status": "completed"
    },
    "tags": []
   },
   "outputs": [
    {
     "data": {
      "image/png": "[encoded data removed]",
      "text/plain": [
       "<Figure size 1080x1080 with 2 Axes>"
      ]
     },
     "metadata": {
      "needs_background": "light"
     },
     "output_type": "display_data"
    }
   ],
   "source": [
    "# Concatenating the features and target\n",
    "feat_mat = np.concatenate((X,Y), axis = 1)\n",
    "\n",
    "# Pearsons correlation coeff array\n",
    "r = np.zeros((12,12))\n",
    "\n",
    "# We will be using a three nested for loop to create the correlation heatmap\n",
    "# Extracting first feature\n",
    "for i in range(0,12):\n",
    "    feature1 = feat_mat[:,i]\n",
    "    # Extracting second feature\n",
    "    for j in range(0,12):\n",
    "        feature2 = feat_mat[:,j]\n",
    "        check = np.array_equal(feature1,feature2)\n",
    "        # If arrays are equal no need to check for correlation\n",
    "        if check == True:\n",
    "            r[i,j] = 1\n",
    "            continue\n",
    "        # Finding the means of the features\n",
    "        mean_feature1 = sum(feature1)/list_len\n",
    "        mean_feature2 = sum(feature2)/list_len\n",
    "        # Initializing the num, den1, den2 variables\n",
    "        num = 0\n",
    "        den1 = 0\n",
    "        den2 = 0\n",
    "        # Calculating the Pearsons correlation coeff\n",
    "        for k in range(0,list_len):\n",
    "            num = num + (feature1[k] - mean_feature1)*(feature2[k] - mean_feature2)\n",
    "            den1 = den1 + (feature1[k] - mean_feature1)**2\n",
    "            den2 = den2 + (feature2[k] - mean_feature2)**2\n",
    "        den1 = den1**0.5\n",
    "        den2 = den2**0.5\n",
    "        den = den1*den2\n",
    "        coeff = num/den\n",
    "        r[i,j] = coeff\n",
    "\n",
    "# Rounding the numbers in the correlation matrix to 2 decimal places\n",
    "r = np.round(r,decimals=3)\n",
    "\n",
    "# Creating the heatmap\n",
    "fig, ax = plt.subplots(figsize=(15,15))\n",
    "im = ax.imshow(r, vmin=-1, vmax=1)\n",
    "\n",
    "# Create colorbar\n",
    "cbar = ax.figure.colorbar(im, ax=ax)\n",
    "\n",
    "# Setting the ticks on X axis\n",
    "ax.set_xticks(np.arange(len(Labels)))\n",
    "ax.set_yticks(np.arange(len(Labels)))\n",
    "# Label them with repsective entries\n",
    "ax.set_xticklabels(Labels)\n",
    "ax.set_yticklabels(Labels)\n",
    "\n",
    "# Rotate the tick labels and set their alignment.\n",
    "plt.setp(ax.get_xticklabels(), rotation=90, ha=\"right\",rotation_mode=\"anchor\")\n",
    "\n",
    "for i in range(0,12):\n",
    "    for j in range(0,12):\n",
    "        text = ax.text(i,j,r[i,j], ha = \"center\", va = \"center\", color = \"w\")\n",
    "\n",
    "plt.show()\n",
    "    \n",
    "    "
   ]
  },
  {
   "cell_type": "markdown",
   "metadata": {
    "papermill": {
     "duration": 0.024052,
     "end_time": "2020-11-15T05:14:12.686879",
     "exception": false,
     "start_time": "2020-11-15T05:14:12.662827",
     "status": "completed"
    },
    "tags": []
   },
   "source": [
    "We can see that there is some positive as well as negative correlation among the feature vectors.\n",
    "Positive Pearson Correlation coefficient\n",
    "1. Citric Acid vs Fixed Acidity :  0.6717\n",
    "2. Density vs Fixed Acidity : 0.668\n",
    "3. Total Sulphur dioxide vs Free Sulphur dioxide : 0.668\n",
    "\n",
    "Negative Pearson Correlation Coefficient\n",
    "1. pH vs Fixed Acidity : -0.683\n",
    "2. pH vs Citric Acid : -0.5419\n",
    "2. Citric Acid vs Volatile Acidity : -0.5525\n",
    "\n",
    "Alcohol seems to be the most correlated with quality (r = 0.4762) compared to other features.\n",
    "\n",
    "The features most correlated with quality are alcohol, sulphates and volatile acidity."
   ]
  },
  {
   "cell_type": "markdown",
   "metadata": {
    "papermill": {
     "duration": 0.023587,
     "end_time": "2020-11-15T05:14:12.735352",
     "exception": false,
     "start_time": "2020-11-15T05:14:12.711765",
     "status": "completed"
    },
    "tags": []
   },
   "source": [
    "# 1.1.3 Statistical and Ranking Filter Methods"
   ]
  },
  {
   "cell_type": "markdown",
   "metadata": {
    "papermill": {
     "duration": 0.023661,
     "end_time": "2020-11-15T05:14:12.783303",
     "exception": false,
     "start_time": "2020-11-15T05:14:12.759642",
     "status": "completed"
    },
    "tags": []
   },
   "source": [
    "\n",
    "\n",
    "For classification sklearn has three algorithms. All of these are for univariate feature selection.\n",
    "\n",
    "1. chi2 (Chi squared stats of non-negative features for classification tasks)\n",
    "2. f_classif (ANOVA F-value between label/feature for classification tasks)\n",
    "3. mutual_info_classif (Estimate mutual information for a discrete target variable)\n",
    "\n",
    "The statistical feature selection methods can be divided into two classes : univariate and multivariate. As the name suggests univariate considers only a single feature and sees how well it correlates with the target variable. A disadvantage over here is that it discards features when taken as an aggregate would have contributed to the target variable. In order to overcome this multivariate feature selection processes use multivariate statistics where they consider dependencies between features when calculating scores for features\n",
    "\n",
    "#### CHI SQUARED DISTRIBUTION\n",
    "\n",
    "A standard normal distribution is a normal distribution with mean 0 and standard deviation of 1. It is given by the following probability density function.\n",
    "\n",
    "### $$ P_r(x) = \\dfrac{e^{-x^2/2}}{\\sqrt{2\\pi}} $$\n",
    "\n",
    "Conider a random variable 'Z' sampled from the standard normal distribution and is squared to give random variable Q. ($ Q = Z^2 $). The distribution of the random variable Q is an example of chi2 distribution. Since we are only squaring a single normal random variable it produces a chi2 distribution of degree 1 however if you have two standard normal distributions and sample and square the random variables and then add them together you will get a chi2 distribution of degree 2. In the below code you can see how to get a chi2 distribution of degree 3 and 5.\n",
    "\n",
    "The probability density function for the chi2 distribution with 'r' degrees of freedom is given by\n",
    "\n",
    "### $$ P_r(x) = \\dfrac{x^{r/2-1}e^{-x/2}}{\\Gamma(r/2)2^{r/2}} $$"
   ]
  },
  {
   "cell_type": "code",
   "execution_count": 4,
   "metadata": {
    "execution": {
     "iopub.execute_input": "2020-11-15T05:14:12.862459Z",
     "iopub.status.busy": "2020-11-15T05:14:12.861258Z",
     "iopub.status.idle": "2020-11-15T05:14:15.158068Z",
     "shell.execute_reply": "2020-11-15T05:14:15.157444Z"
    },
    "papermill": {
     "duration": 2.350878,
     "end_time": "2020-11-15T05:14:15.158198",
     "exception": false,
     "start_time": "2020-11-15T05:14:12.807320",
     "status": "completed"
    },
    "tags": []
   },
   "outputs": [
    {
     "data": {
      "image/png": "[encoded data removed]",
      "text/plain": [
       "<Figure size 432x288 with 1 Axes>"
      ]
     },
     "metadata": {
      "needs_background": "light"
     },
     "output_type": "display_data"
    },
    {
     "data": {
      "image/png": "[encoded data removed]",
      "text/plain": [
       "<Figure size 432x288 with 1 Axes>"
      ]
     },
     "metadata": {
      "needs_background": "light"
     },
     "output_type": "display_data"
    },
    {
     "data": {
      "image/png": "[encoded data removed]",
      "text/plain": [
       "<Figure size 432x288 with 1 Axes>"
      ]
     },
     "metadata": {
      "needs_background": "light"
     },
     "output_type": "display_data"
    },
    {
     "data": {
      "image/png": "[encoded data removed]",
      "text/plain": [
       "<Figure size 432x288 with 1 Axes>"
      ]
     },
     "metadata": {
      "needs_background": "light"
     },
     "output_type": "display_data"
    }
   ],
   "source": [
    "# Lets draw samples from a standard normal distribution and plot as histogram\n",
    "mean = 0\n",
    "std = 1\n",
    "# Drawing 2000 samples from a gaussian distribution of mean 0 and std 1.\n",
    "a_norm = np.random.normal(loc=mean,scale=std,size=2000)\n",
    "# Setting density equal to 1 so that area under histogram sums to 1 (normalizing the counts) and can be compared with std normal distribution curve.\n",
    "# bins defines the floating point numbers for which we are calculating the count\n",
    "# X axis of plot : floating point numbers \n",
    "# Y axis of plot : counts/frequency of floating point numbers\n",
    "count, bins, ignored = plt.hist(a_norm,200,density=1)\n",
    "# Lets compare the histogram with the equation of the standard normal distribution curve by plotting over it.\n",
    "plt.plot(bins,1/(np.sqrt(2*np.pi))*np.exp(-(bins**2)/2), linewidth = 2, color = 'r')\n",
    "plt.title('Standard normal distribution curve')\n",
    "plt.show()\n",
    "\n",
    "b_norm = np.random.normal(loc=mean,scale=std,size=2000)\n",
    "c_norm = np.random.normal(loc=mean,scale=std,size=2000)\n",
    "d_norm = np.random.normal(loc=mean,scale=std,size=2000)\n",
    "e_norm = np.random.normal(loc=mean,scale=std,size=2000)\n",
    "\n",
    "# Now lets plot the chi squared distribution for 1, 3 and 5 degrees of freedom\n",
    "a_norm2 = a_norm**2\n",
    "b_norm2 = b_norm**2\n",
    "c_norm2 = c_norm**2\n",
    "d_norm2 = d_norm**2\n",
    "e_norm2 = e_norm**2\n",
    "\n",
    "count1, bins1, ignored1 = plt.hist(a_norm2,200,density=1)\n",
    "bins1 = bins1[bins1>=10**(-6)]\n",
    "# X axis of plot : squared std normal variable\n",
    "# Y axis of plot : counts/frequency of floating point numbers\n",
    "plt.plot(bins1,bins1**(1/2-1)*np.exp(-bins1/2)/(math.gamma(1/2)*2**(1/2)),linewidth=2,color='r')\n",
    "plt.axis([0,10,0,1.5])\n",
    "plt.title('Chi2 distribution with 1 dof')\n",
    "plt.show()\n",
    "\n",
    "count3, bins3, ignored3 = plt.hist(a_norm2 + b_norm2 + c_norm2,200,density=1)\n",
    "bins3 = bins3[bins3>=10**(-6)]\n",
    "plt.plot(bins3,bins3**(3/2-1)*np.exp(-bins3/2)/(math.gamma(3/2)*2**(3/2)),linewidth=2,color='r')\n",
    "plt.axis([0,10,0,1.5])\n",
    "plt.title('Chi2 distribution with 3 dof')\n",
    "plt.show()\n",
    "                           \n",
    "count5, bins5, ignored5 = plt.hist(a_norm2 + b_norm2 + c_norm2 + d_norm2 + e_norm2,200,density=1)\n",
    "bins5 = bins5[bins5>=10**(-6)]\n",
    "plt.plot(bins5,bins5**(5/2-1)*np.exp(-bins5/2)/(math.gamma(5/2)*2**(5/2)),linewidth=2,color='r')\n",
    "plt.axis([0,10,0,1.5])\n",
    "plt.title('Chi2 distribution with 5 dof')\n",
    "plt.show()"
   ]
  },
  {
   "cell_type": "markdown",
   "metadata": {
    "papermill": {
     "duration": 0.027567,
     "end_time": "2020-11-15T05:14:15.214206",
     "exception": false,
     "start_time": "2020-11-15T05:14:15.186639",
     "status": "completed"
    },
    "tags": []
   },
   "source": [
    "#### CHI SQUARE TEST\n",
    "\n",
    "The chi-square test refers to a class of statistical tests in which the sampling distribution is a chi-square distribution. The term usually refers to Pearson's chi-square test. \n",
    "\n",
    "The chi squared test can be used to test for the probability of independence between two datasets and for performing a goodness-of-fit test. Here we will be using it for testing the probability of independence between two datasets. It will not tell any details about the relationship between them. For instance, in a survey conducted in which the ages of participants are recorded, a chi squared test can be used to determine if age affects the survey responses, or if the two are independent. \n",
    "\n",
    "Chi-square score is commonly used for testing relationships between categorical variables and like any statistical hypothesis test, the chi square test has both a null hypothesis and an alternative hypothesis.\n",
    "\n",
    "The null hypothesis states that there is no relationship between the categorical variables while the alternative hypothesis states that there is a relationship between the variables.\n",
    "\n",
    "The Chi-square test of independence works by comparing the distribution that you observe to the distribution that you expect if there is no relationship between the categorical variables. In the Chi-square context, the word “expected” is equivalent to what you’d expect if the null hypothesis is true. If your observed distribution is sufficiently different than the expected distribution (no relationship), you can reject the null hypothesis and infer that the variables are related.\n",
    "\n",
    "The chi squared statistic for interdependence is defined by \n",
    "\n",
    "### $$\\chi^2 = \\sum \\dfrac{(Observed - Expected)^2}{Expected}$$\n",
    "\n",
    "Before we start calculating the chi squared score lets look at how a typical contingency table would look like\n",
    "\n",
    "<table style=\"width:100%; border:1px solid black\">\n",
    "    \n",
    "<tr>\n",
    "<th rowspan=\"2\" style=\"border:1px solid black; text-align:center\"> Features </th> \n",
    "<th colspan=\"4\" style=\"border:1px solid black; text-align:center\"> Class Labels </th>\n",
    "</tr>\n",
    "    \n",
    "<tr>\n",
    "<td style=\"border:1px solid black; text-align:center\"> Class 1 </td> \n",
    "<td style=\"border:1px solid black; text-align:center\"> Class 2 </td>\n",
    "<td style=\"border:1px solid black; text-align:center\"> ....... </td>\n",
    "<td style=\"border:1px solid black; text-align:center\"> Class n </td>\n",
    "</tr>\n",
    "    \n",
    "<tr>\n",
    "<td style=\"border:1px solid black; text-align:center\"> Feature 1 </td> \n",
    "<td style=\"border:1px solid black; text-align:center\"> $$ Observation_{1,1} $$ </td> \n",
    "<td style=\"border:1px solid black; text-align:center\"> $$ Observation_{1,2} $$ </td> \n",
    "<td style=\"border:1px solid black; text-align:center\"> ....... </td>\n",
    "<td style=\"border:1px solid black; text-align:center\"> $$ Observation_{1,n} $$ </td>\n",
    "<td style=\"border:1px solid black; text-align:center\"> Row 1 total </td>\n",
    "</tr>\n",
    "    \n",
    "<tr>\n",
    "<td style=\"border:1px solid black; text-align:center\"> Feature 2 </td> \n",
    "<td style=\"border:1px solid black; text-align:center\"> $$ Observation_{2,1} $$ </td> \n",
    "<td style=\"border:1px solid black; text-align:center\"> $$ Observation_{2,2} $$ </td> \n",
    "<td style=\"border:1px solid black; text-align:center\"> ....... </td>\n",
    "<td style=\"border:1px solid black; text-align:center\"> $$ Observation_{2,n} $$ </td>\n",
    "<td style=\"border:1px solid black; text-align:center\"> Row 2 total </td>\n",
    "</tr>\n",
    "    \n",
    "<tr>\n",
    "<td style=\"border:1px solid black; text-align:center\"> : </td>\n",
    "<td style=\"border:1px solid black; text-align:center\"> : </td>\n",
    "<td style=\"border:1px solid black; text-align:center\"> : </td>\n",
    "<td style=\"border:1px solid black; text-align:center\"> : </td>\n",
    "<td style=\"border:1px solid black; text-align:center\"> : </td>\n",
    "<td style=\"border:1px solid black; text-align:center\"> : </td>\n",
    "</tr>\n",
    "    \n",
    "<tr>\n",
    "<td style=\"border:1px solid black; text-align:center\"> Feature n </td> \n",
    "<td style=\"border:1px solid black; text-align:center\"> $$ Observation_{n,1} $$ </td> \n",
    "<td style=\"border:1px solid black; text-align:center\"> $$ Observation_{n,2} $$ </td> \n",
    "<td style=\"border:1px solid black; text-align:center\"> ....... </td>\n",
    "<td style=\"border:1px solid black; text-align:center\"> $$ Observation_{n,n} $$ </td>\n",
    "<td style=\"border:1px solid black; text-align:center\"> Row n total </td>\n",
    "</tr>\n",
    "    \n",
    "<tr>\n",
    "<td> </td>\n",
    "<td style=\"border:1px solid black; text-align:center\"> Column 1 total </td>\n",
    "<td style=\"border:1px solid black; text-align:center\"> Column 2 total </td>\n",
    "<td style=\"border:1px solid black; text-align:center\"> ....... </td>\n",
    "<td style=\"border:1px solid black; text-align:center\"> Column n total </td>\n",
    "<td style=\"border:1px solid black; text-align:center\"> <b> N </b> </td>\n",
    "</tr>\n",
    "    \n",
    "</table>\n",
    "\n",
    "<br>\n",
    "\n",
    "The chi square test for independence proceeds as follows :\n",
    "\n",
    "1. Calculate the chi-squred statistic $\\chi^2$ by using the formula shown above.\n",
    "\n",
    "2. Determine number of degrees of freedom  $df = (r-1)(c-1)$\n",
    "\n",
    "3. As an independence test, the usual confidence level is p = 0.95. If the chi-squared statistic exceeds the critical value under these conditions, the independence assumption can be rejected, and the two data sets are unlikely to be independent.\n",
    "\n",
    "### EXAMPLE\n",
    "\n",
    "Lets take alcohol content and volatile acidity and see how well they are correlated with wine quality.\n",
    "\n",
    "#### Feature 1 : Alcohol content\n",
    "\n",
    "The alcohol is measured as percent alcohol content of wine. In the data we have the maximum alcohol content is 14.9. According to the classification done by winefolly.\n",
    "\n",
    "<table>\n",
    "<tr>\n",
    "    <td style=\"border:1px solid black; text-align:center\"> Low Alcohol Content Wines </td>\n",
    "    <td style=\"border:1px solid black; text-align:center\"> 10 % </td>\n",
    "</tr>\n",
    "    \n",
    "<tr>\n",
    "    <td style=\"border:1px solid black; text-align:center\"> Medium Low Alcohol Content Wines </td>\n",
    "    <td style=\"border:1px solid black; text-align:center\"> 10-11.55 % </td>\n",
    "</tr>\n",
    "    \n",
    "<tr> \n",
    "    <td style=\"border:1px solid black; text-align:center\"> Medium Alcohol Content Wines </td>\n",
    "    <td style=\"border:1px solid black; text-align:center\"> 11.55-13.5 % </td>\n",
    "</tr>\n",
    "    \n",
    "<tr>\n",
    "    <td style=\"border:1px solid black; text-align:center\"> Medium High Alcohol Content Wines </td>\n",
    "    <td style=\"border:1px solid black; text-align:center\"> 13.5-15 % </td>\n",
    "</tr>\n",
    "    \n",
    "<tr>\n",
    "    <td style=\"border:1px solid black; text-align:center\"> High Alcohol Content Wines </td>\n",
    "    <td style=\"border:1px solid black; text-align:center\"> Over 15 % </td>\n",
    "</tr>\n",
    "</table>\n",
    "\n",
    "<br>\n",
    "\n",
    "In our dataset most of the wines have alcohol content less than 11.55 % alcohol content. Lets split the alcohol feature vector such that values less than 11.55 % alcohol content we will regard it as medium low alcohol content wine (1) and greater than 11.55 %  as medium high alcohol content wines (0). I have chosen this format as most of the alcohol datapoints lie in the medium-low alchol content range so we can see if medium-low alcohol content correlates well with quality.\n",
    "\n",
    "#### Feature 2 : Volatile acidity\n",
    "\n",
    "Volatile acidity (VA) is a measure of the wine's gaseous acids that contributes to the smell and taste of vinegar in wine. Volatile acidity at too high levels can lead to an unpleasant, vinegar taste.\n",
    "\n",
    "Volatile acidity is measured as $ \\dfrac{g(acetic acid)}{L^{3}} $. Volatile acidity concentration is regulated by the Federal Tax and Trade Bureau, and allowable levels for various wine styles can be found in the Code of Federal Regualtions (CFR). The mentioned regulations for red and white wines are 1.4 and 1.2 g(acetic acid)/L respectively.\n",
    "\n",
    "Lets split the VA feaure vector such that values less than 0.7 we will regard it as low VA (1) and greater than 0.7 we will regard it as high VA(0). I have chosen this format as most of the VA acid datapoints lie in the low-VA range so we can see if low-VA correlates well with quality."
   ]
  },
  {
   "cell_type": "code",
   "execution_count": 5,
   "metadata": {
    "execution": {
     "iopub.execute_input": "2020-11-15T05:14:15.288248Z",
     "iopub.status.busy": "2020-11-15T05:14:15.287107Z",
     "iopub.status.idle": "2020-11-15T05:14:15.297879Z",
     "shell.execute_reply": "2020-11-15T05:14:15.297107Z"
    },
    "papermill": {
     "duration": 0.055536,
     "end_time": "2020-11-15T05:14:15.298024",
     "exception": false,
     "start_time": "2020-11-15T05:14:15.242488",
     "status": "completed"
    },
    "tags": []
   },
   "outputs": [
    {
     "name": "stdout",
     "output_type": "stream",
     "text": [
      "Observed values : \n",
      "\n",
      "\n",
      "[[1242 1375]\n",
      " [ 107  208]]\n",
      "\n",
      "\n",
      "Expected values : \n",
      "\n",
      "\n",
      "[[1165.92745466 1368.1713571 ]\n",
      " [ 183.07254534  214.8286429 ]]\n",
      "\n",
      "\n",
      "Chi square statistic for alcohol is : \n",
      "36.574\n",
      "\n",
      "\n",
      "Chi square statistic for VA is : \n",
      "0.251\n"
     ]
    }
   ],
   "source": [
    "# Feature vector - med - low alcohol content\n",
    "alcohol = X[:,10].reshape(list_len,1)\n",
    "# less than 11.55 % - 1 (medium low), greater than 11.55 % - 0 (medium high)\n",
    "alcohol = np.where(alcohol<=11.55,1,0)\n",
    "\n",
    "# Feature vector - low volatile acidity content\n",
    "VA = X[:,2].reshape(list_len,1)\n",
    "VA = np.where(VA<=0.7,1,0)\n",
    "\n",
    "chi2_feat_mat = np.append(alcohol,VA,axis=1)\n",
    "\n",
    "# Target vector - quality. If quality is greater than 7 then we call it as good quality wine(1). If quality is less than 7 we call it as bad quality wine (0)\n",
    "quality = np.where(Y>=7,1,0)\n",
    "# We are generating two class labels : Bad quality wine and Good quality wine.\n",
    "quality = np.append(1-quality,quality,axis=1)\n",
    "\n",
    "# Observed values are calcualted by taking the dot product of class labels with the feature.\n",
    "# This is the same as counting how many alcohol samples with medium low alcohol content and low VA \n",
    "# belong to bad and good quality wines. \n",
    "# Output : [[Observed number of bad quality wine with med-low alc samples, Observed number of bad quality wine with low VA],[Observed number of good quality wine with med-low alc samples, Observed number of good quality wine with low VA]]\n",
    "observed = np.dot(quality.T,chi2_feat_mat)\n",
    "print(\"Observed values : \")\n",
    "print(\"\\n\")\n",
    "print(observed)\n",
    "print(\"\\n\")\n",
    "\n",
    "# Now we move onto to calculate the expected values.\n",
    "\n",
    "# Calculating the number of samples with medium low alcohol content and number of samples with low VA content\n",
    "# Output : [number of med-low alcohol samples,  number of low VA samples]\n",
    "feature_count = chi2_feat_mat.sum(axis=0).reshape(1,-1)\n",
    "# Calculating probability of bad and good quality wine\n",
    "# Output : [percent bad quality, percent good quality]\n",
    "class_prob = quality.mean(axis=0).reshape(1,-1)\n",
    "\n",
    "# Calculating expected values\n",
    "# Output : [[ Expected percent bad quality wine with med-low alc samples, Expected percent bad quality wine with low VA],[Expected percent good quality wine with med-low alc samples, Expected percent good quality wine with low VA]]\n",
    "expected = np.dot(class_prob.T,feature_count)\n",
    "print(\"Expected values : \")\n",
    "print(\"\\n\")\n",
    "print(expected)\n",
    "\n",
    "# Calculating chi square statistic\n",
    "chisq = ((observed - expected)**2)/expected\n",
    "chisq = chisq.sum(axis=0)\n",
    "\n",
    "print(\"\\n\")\n",
    "print(\"Chi square statistic for alcohol is : \")\n",
    "print(round(chisq[0],3))\n",
    "print(\"\\n\")\n",
    "print(\"Chi square statistic for VA is : \")\n",
    "print(round(chisq[1],3))"
   ]
  },
  {
   "cell_type": "markdown",
   "metadata": {
    "papermill": {
     "duration": 0.028207,
     "end_time": "2020-11-15T05:14:15.354682",
     "exception": false,
     "start_time": "2020-11-15T05:14:15.326475",
     "status": "completed"
    },
    "tags": []
   },
   "source": [
    "Lets calculate the number of degrees of freedom"
   ]
  },
  {
   "cell_type": "code",
   "execution_count": 6,
   "metadata": {
    "execution": {
     "iopub.execute_input": "2020-11-15T05:14:15.418083Z",
     "iopub.status.busy": "2020-11-15T05:14:15.417081Z",
     "iopub.status.idle": "2020-11-15T05:14:15.421440Z",
     "shell.execute_reply": "2020-11-15T05:14:15.420723Z"
    },
    "papermill": {
     "duration": 0.038443,
     "end_time": "2020-11-15T05:14:15.421589",
     "exception": false,
     "start_time": "2020-11-15T05:14:15.383146",
     "status": "completed"
    },
    "tags": []
   },
   "outputs": [
    {
     "name": "stdout",
     "output_type": "stream",
     "text": [
      "Number of degrees of freedom is (r - 1)*(c - 1): \n",
      "1\n"
     ]
    }
   ],
   "source": [
    "print(\"Number of degrees of freedom is (r - 1)*(c - 1): \")\n",
    "print((2-1)*(2-1))"
   ]
  },
  {
   "cell_type": "markdown",
   "metadata": {
    "papermill": {
     "duration": 0.028887,
     "end_time": "2020-11-15T05:14:15.479612",
     "exception": false,
     "start_time": "2020-11-15T05:14:15.450725",
     "status": "completed"
    },
    "tags": []
   },
   "source": [
    "Considering p-value of 0.95 and 1 degree of freedom lets find out the critical values of the chi2 distribution.\n",
    "\n",
    "![Chi2 critical values](https://faculty.elgin.edu/dkernler/statistics/ch09/images/chi-square-table.gif)\n",
    "\n",
    "* We see that the critical value is 0.004 for dof = 1 and p-val of 0.95\n",
    "* The chi square statistics for alcohol and volatile acidity are both greater than the critical value and hence we can reject the null hypothesis."
   ]
  },
  {
   "cell_type": "markdown",
   "metadata": {
    "papermill": {
     "duration": 0.029243,
     "end_time": "2020-11-15T05:14:15.537849",
     "exception": false,
     "start_time": "2020-11-15T05:14:15.508606",
     "status": "completed"
    },
    "tags": []
   },
   "source": [
    "# 1.1.4 MUTUAL INFORMATION "
   ]
  },
  {
   "cell_type": "markdown",
   "metadata": {
    "papermill": {
     "duration": 0.02887,
     "end_time": "2020-11-15T05:14:15.596170",
     "exception": false,
     "start_time": "2020-11-15T05:14:15.567300",
     "status": "completed"
    },
    "tags": []
   },
   "source": [
    "Mutual information (MI) (also known as Information gain) between two random variables is a non negative value, which measures the dependency between the variables. It is equal to 0 if and only if two random variables are independent, and higher values mean higher dependency. It can be used for univariate feature selection.\n",
    "\n",
    "The input to a MI estimator is a list of (x,y) data points, whose underlying probability distribution $ \\mu(x,y) $ we can only guess based on how the data points are clustered. \n",
    "\n",
    "It relies on non parametric methods based on entropy estimation from k-nearest neigbours\n",
    "\n",
    "Discrete probability functions are functions that take discrete number of values and are referred to as probability mass functions.\n",
    "Continuous probability functions are defined for an infinite number of points over a continuous interval and are referred to as probability density functions.\n",
    "\n",
    "sklearn implementation:\n",
    "\n",
    "sklearn.feature_selection.mutual_info_classif(X,y,*,discrete_features = 'auto', n_neighbours=3,copy=True,random_state=None)\n",
    "\n",
    "1. X : feature matrix\n",
    "2. y : target vector\n",
    "3. discrete_features : default'auto'. If auto, it is assigned False for dense X and to True for sparse X. A sparse matrix is a matrix in which most of the elements are non zero. By contrast if most of the elements are nonzero then the matrix is called a dense matrix.\n",
    "4. n_neighbours : Number of neighbours to use for MI estimation for continuous variables.\n",
    "5. copy : bool, default True\n",
    "6. random_state : For adding small noise to continuous variables to remove repeated values. Default None\n",
    "\n",
    "Maths behind MI:\n",
    "\n",
    "Since our matrix is a dense matrix we will see the formula for mutual information for continuous distributions \n",
    "\n",
    "### $$ I(X;Y) = \\int_y\\int_x p_{(X,Y)}(x,y)\\log{\\dfrac{p_{(X,Y)}(x,y)}{p_X(x)p_Y(y)}}dxdy$$\n",
    "\n",
    "$p_{X,Y}$ is the joint probability density function of X and Y.\n",
    "$p_X$ and $p_Y$ are the marginal probability density functions of X and Y respectively.\n",
    "\n",
    "Joint Probability Distribution (Discrete case)\n",
    "\n",
    "X and Y are two discrete random variables. X takes values {x1, x2 .. xn} (can take 'n' values) and Y takes values {y1,y2 .. ym} (can take 'm' values). The ordered pair takes values in the product {(x1,y1),(x2,y2), .. (xn,yn)}. The joint probability mass function (joint pmf) of X and Y is the function p(xi,yj) giving the probability of the joint outcome X = xi and Y = yj.\n",
    "\n",
    "This is organized in a joint probability table as follows :\n",
    "\n",
    "\n",
    "\n",
    "> Reference : https://ocw.mit.edu/courses/mathematics/18-05-introduction-to-probability-and-statistics-spring-2014/readings/MIT18_05S14_Reading7a.pdf\n",
    "\n",
    "Joint Probability Distribution (Continuous case)\n",
    "\n",
    "In the continuous case discrete sets are replaced with continuous intervals and the joint probability mass function (joint pmf) is replaced with joint probability density functions (joint pdf).\n",
    "\n",
    "If X takes values in [a,b] and Y takes values in [c,d] then the pair (X,Y) takes values in the product [a,b] x [c,d]. The joint probability density function is the function f(x,y) giving the probability density at (x,y). That is, the probability that (X, Y) is in a small rectangle of width dx and height dy around (x, y) is f(x,y)dx dy \n",
    "\n",
    "\n",
    "\n",
    "> Reference : https://ocw.mit.edu/courses/mathematics/18-05-introduction-to-probability-and-statistics-spring-2014/readings/MIT18_05S14_Reading7a.pdf\n",
    "\n",
    "Note : probability density functions can take values greater than 1 as they are probability densities and not probabilities.\n",
    "\n",
    "Marginal Probability Distribution\n",
    "\n",
    "The individual probability distribution of a random variable is reffered to as its marginal probability distribution.\n",
    "\n",
    "When the joint probability function concides with the product of the marginal probability functions that is when X and Y are independent (and hence observing Y tells you nothing about X).\n"
   ]
  },
  {
   "cell_type": "markdown",
   "metadata": {
    "papermill": {
     "duration": 0.029051,
     "end_time": "2020-11-15T05:14:15.655204",
     "exception": false,
     "start_time": "2020-11-15T05:14:15.626153",
     "status": "completed"
    },
    "tags": []
   },
   "source": [
    "# 1.2 Wrapper Method"
   ]
  },
  {
   "cell_type": "markdown",
   "metadata": {
    "papermill": {
     "duration": 0.028772,
     "end_time": "2020-11-15T05:14:15.713709",
     "exception": false,
     "start_time": "2020-11-15T05:14:15.684937",
     "status": "completed"
    },
    "tags": []
   },
   "source": [
    "![](http://upload.wikimedia.org/wikipedia/commons/0/04/Feature_selection_Wrapper_Method.png)\n",
    "\n",
    "> Reference : https://en.wikipedia.org/wiki/Feature_selection\n",
    "\n",
    "Wrapper methods are based on greedy search algorithms as they evaluate all possible combinations of the features and select the combination that produces the best result for a specific machine learning algorithm. Some disadvantages associated with wrapper methods are :\n",
    "\n",
    "1. Testing all possible combinations of the features can be computationally expensive if the features set is too large.\n",
    "\n",
    "2. When number of observations is insufficient there is increased risk of overfitting.\n",
    "\n",
    "Wrapper methods for feature selection can be divided into three categories:\n",
    "\n",
    "### 1. Step forward feature selection / Forward Feature Selection\n",
    "\n",
    "In the first step, the performance of the classifier is evaluated with respect to each feature. The feature that performs the best is selected out of all the features. Selected feature depends on the evaluation criteria (prediction accuracy, RMSE etc). Next all possible combinations of the selected feature and subsequent feature are evaluated and second feature is selected. This process is continued until the required pre-defined number of features is selected.\n",
    "\n",
    "### 2. Step backward feature selection / Backward Feature Elimination\n",
    "\n",
    "Here we start with all the features in the dataset, and then we evaluate the performance of the machine learning algorithm. After that, at each iteration, backward feature elimination removes one feature at a time. It continues removing features until a certain criterion is satified.\n",
    "\n",
    "### 3. Exhaustive feature selection\n",
    "\n",
    "The performance of the machine learning algorithm is evaluated against all possible subsets of features in the dataset. You can define the minimum and maximum number of features to have in a subset. The feature subset that yields best performance is selected. A downside to exhaustive feature selction is that it can be slower than compared to step forward or step backward feature selections.\n",
    "\n",
    "**As a rule of thumb, if the dataset is small, exhaustive feature selection method should be the choice, however, in case of large datasets, step forward or step backward feature selection methods should be preferred.**"
   ]
  },
  {
   "cell_type": "markdown",
   "metadata": {
    "papermill": {
     "duration": 0.028517,
     "end_time": "2020-11-15T05:14:15.771227",
     "exception": false,
     "start_time": "2020-11-15T05:14:15.742710",
     "status": "completed"
    },
    "tags": []
   },
   "source": [
    "# 1.3 Embedded Method"
   ]
  },
  {
   "cell_type": "markdown",
   "metadata": {
    "papermill": {
     "duration": 0.029579,
     "end_time": "2020-11-15T05:14:15.829703",
     "exception": false,
     "start_time": "2020-11-15T05:14:15.800124",
     "status": "completed"
    },
    "tags": []
   },
   "source": [
    "![](https://upload.wikimedia.org/wikipedia/commons/b/bf/Feature_selection_Embedded_Method.png)\n",
    "\n",
    "> Reference : https://en.wikipedia.org/wiki/Feature_selection\n",
    "\n",
    "In embedded methods the feature selction process is added within the construction of the machine learning algorithm. They complete the feature selection process during the model training. The learning algorithm takes advantage of its variable selection process and performs feature selection and classificaton/regression at the same time."
   ]
  },
  {
   "cell_type": "markdown",
   "metadata": {
    "papermill": {
     "duration": 0.028787,
     "end_time": "2020-11-15T05:14:15.887434",
     "exception": false,
     "start_time": "2020-11-15T05:14:15.858647",
     "status": "completed"
    },
    "tags": []
   },
   "source": [
    "# 2. Feature Extraction"
   ]
  },
  {
   "cell_type": "markdown",
   "metadata": {
    "papermill": {
     "duration": 0.028666,
     "end_time": "2020-11-15T05:14:15.945076",
     "exception": false,
     "start_time": "2020-11-15T05:14:15.916410",
     "status": "completed"
    },
    "tags": []
   },
   "source": [
    "# 3. References \n",
    "\n",
    "List of feature selection methods :\n",
    "1. https://heartbeat.fritz.ai/hands-on-with-feature-selection-techniques-filter-methods-f248e0436ce5\n",
    "\n",
    "Links for infromation on Correlation :\n",
    "1. https://brilliant.org/wiki/correlation/\n",
    "\n",
    "Links for Chi squared test : \n",
    "1. https://brilliant.org/wiki/chi-squared-test/\n",
    "2. https://www.investopedia.com/terms/c/chi-square-statistic.asp\n",
    "3. https://statisticsbyjim.com/hypothesis-testing/chi-square-test-independence-example/\n",
    "\n",
    "Contingency Table\n",
    "1. https://math.hws.edu/javamath/ryan/ChiSquare.html\n",
    "2. https://medium.com/analytics-vidhya/pearsons-chi-squared-test-from-scratch-with-python-ba9e14d336c\n",
    "3. https://www.kaggle.com/kuldeepnpatel/chi-square-test-of-independence\n",
    "4. https://machinelearningmastery.com/chi-squared-test-for-machine-learning/\n",
    "\n",
    "\n",
    "Links for Mutual information :\n",
    "1. https://scikit-learn.org/stable/modules/generated/sklearn.feature_selection.mutual_info_classif.html#sklearn.feature_selection.mutual_info_classif\n",
    "2. https://en.wikipedia.org/wiki/Mutual_information\n",
    "3. https://en.wikipedia.org/wiki/Joint_probability_distribution\n",
    "4. https://ocw.mit.edu/courses/mathematics/18-05-introduction-to-probability-and-statistics-spring-2014/readings/MIT18_05S14_Reading7a.pdf\n",
    "5. https://www.ncbi.nlm.nih.gov/pmc/articles/PMC3929353/\n",
    "\n",
    "Wrapper Methods :\n",
    "1. https://stackabuse.com/applying-wrapper-methods-in-python-for-feature-selection/\n",
    "\n",
    "Embedded Methods : \n",
    "1. https://heartbeat.fritz.ai/hands-on-with-feature-selection-techniques-embedded-methods-84747e814dab\n",
    "\n",
    "Symbols used for Latex equation :\n",
    "1. https://www.calvin.edu/~rpruim/courses/s341/S17/from-class/MathinRmd.html\n",
    "\n",
    "Wine Quality :\n",
    "1. https://winefolly.com/tips/the-lightest-to-the-strongest-wine/\n",
    "2. https://extension.psu.edu/volatile-acidity-in-wine\n",
    "\n",
    "\n",
    "\n"
   ]
  }
 ],
 "metadata": {
  "kernelspec": {
   "display_name": "Python 3",
   "language": "python",
   "name": "python3"
  },
  "language_info": {
   "codemirror_mode": {
    "name": "ipython",
    "version": 3
   },
   "file_extension": ".py",
   "mimetype": "text/x-python",
   "name": "python",
   "nbconvert_exporter": "python",
   "pygments_lexer": "ipython3",
   "version": "3.7.6"
  },
  "papermill": {
   "duration": 11.264059,
   "end_time": "2020-11-15T05:14:16.082720",
   "environment_variables": {},
   "exception": null,
   "input_path": "__notebook__.ipynb",
   "output_path": "__notebook__.ipynb",
   "parameters": {},
   "start_time": "2020-11-15T05:14:04.818661",
   "version": "2.1.0"
  }
 },
 "nbformat": 4,
 "nbformat_minor": 4
}
