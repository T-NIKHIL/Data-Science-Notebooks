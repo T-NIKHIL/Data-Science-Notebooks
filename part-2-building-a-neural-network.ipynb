{
 "cells": [
  {
   "cell_type": "markdown",
   "metadata": {
    "papermill": {
     "duration": 0.021423,
     "end_time": "2020-11-15T05:50:42.436572",
     "exception": false,
     "start_time": "2020-11-15T05:50:42.415149",
     "status": "completed"
    },
    "tags": []
   },
   "source": [
    "# Libraries required"
   ]
  },
  {
   "cell_type": "code",
   "execution_count": 1,
   "metadata": {
    "_cell_guid": "b1076dfc-b9ad-4769-8c92-a6c4dae69d19",
    "_uuid": "8f2839f25d086af736a60e9eeb907d3b93b6e0e5",
    "execution": {
     "iopub.execute_input": "2020-11-15T05:50:42.485120Z",
     "iopub.status.busy": "2020-11-15T05:50:42.484202Z",
     "iopub.status.idle": "2020-11-15T05:50:42.492675Z",
     "shell.execute_reply": "2020-11-15T05:50:42.491757Z"
    },
    "papermill": {
     "duration": 0.035937,
     "end_time": "2020-11-15T05:50:42.492844",
     "exception": false,
     "start_time": "2020-11-15T05:50:42.456907",
     "status": "completed"
    },
    "tags": []
   },
   "outputs": [
    {
     "name": "stdout",
     "output_type": "stream",
     "text": [
      "/kaggle/input/red-wine-quality-cortez-et-al-2009/winequality-red.csv\n"
     ]
    }
   ],
   "source": [
    "import numpy as np\n",
    "import matplotlib.pyplot as plt\n",
    "import random\n",
    "import csv\n",
    "\n",
    "# Input data files are available in the read-only \"../input/\" directory\n",
    "# For example, running this (by clicking run or pressing Shift+Enter) will list all files under the input directory\n",
    "\n",
    "import os\n",
    "for dirname, _, filenames in os.walk('/kaggle/input'):\n",
    "    for filename in filenames:\n",
    "        print(os.path.join(dirname, filename))\n",
    "\n",
    "# You can write up to 5GB to the current directory (/kaggle/working/) that gets preserved as output when you create a version using \"Save & Run All\" \n",
    "# You can also write temporary files to /kaggle/temp/, but they won't be saved outside of the current session"
   ]
  },
  {
   "cell_type": "markdown",
   "metadata": {
    "papermill": {
     "duration": 0.020388,
     "end_time": "2020-11-15T05:50:42.535261",
     "exception": false,
     "start_time": "2020-11-15T05:50:42.514873",
     "status": "completed"
    },
    "tags": []
   },
   "source": [
    "# Supervised and Unsupervised Learning Models"
   ]
  },
  {
   "cell_type": "markdown",
   "metadata": {
    "papermill": {
     "duration": 0.021144,
     "end_time": "2020-11-15T05:50:42.578286",
     "exception": false,
     "start_time": "2020-11-15T05:50:42.557142",
     "status": "completed"
    },
    "tags": []
   },
   "source": [
    "Before we cover what neural nets are lets first understand what are supervised and unsupervised learning models are.\n",
    "\n",
    "Suppose you have input data X and target data Y. The goal of supervised learning models is to approximate a mapping function from input to ouput so that when new data is present one can predict the output for that data. Supervised learning models can be classified into two types:\n",
    "\n",
    "1. Classification : Target variable is discrete data (categorical). Examples of classification models are Neural Nets, Decision Tree. In these models one can have binary classification or multi class classification.\n",
    "\n",
    "2. Regression : Target variable is any real value. Examples of regression models are linear and polymonial regression. \n",
    "\n",
    "On the other hand in unsupervised learning problems you only have input data X and no corresponding output data. You are training the machine on information that is neither classified nor labelled.\n",
    "Unsupervised Learning models can be classified into two types:\n",
    "\n",
    "1. Clustering : Discover inherent groupings within data. Example of a clustering algorithm is k-means\n",
    "\n",
    "2. Association : Discover rules that describe the data. Examples are Apriori algorithms for association rule learning problems.\n",
    "\n",
    "In this tutorial we will be taking about how to build a simple neural net model."
   ]
  },
  {
   "cell_type": "markdown",
   "metadata": {
    "papermill": {
     "duration": 0.021691,
     "end_time": "2020-11-15T05:50:42.621204",
     "exception": false,
     "start_time": "2020-11-15T05:50:42.599513",
     "status": "completed"
    },
    "tags": []
   },
   "source": [
    "In this tutorial we are going to do binary classification and classify the wine as good if it has a quality score above a certain value and if it is below that value then we will classify it as bad wine. Binary classification can be done using logistic regression or shallow neural nets. \n",
    "\n",
    "Future works include doing a multi calss classification to determine the quality score of the wine.\n",
    "\n",
    "# Logistic Regression\n",
    "\n",
    "Logistic Regression is used for binary classification. However it can be used for multi class classification through the one vs rest scheme in which for each class a binary classification is done. It is a one layer deep neural net having one node which is the output node. The output node assigns weights to each of the inputs and is sent as input into the sigmoid function whose output (which ranges from 0 to 1) is compared with the true label (0 or 1).\n",
    "\n",
    "# Shallow neural nets\n",
    "\n",
    "Shallow neural nets consist of 1 or 2 hidden layers. Understanding shallow neural net can help us understand how deep neural nets function. They are better at approximating complex decision boundaries compared to logistic regression where a single node is present and you have only a single decision boundary so if the dataset is not linearly separable, logistic regression does not perform well and has 50/50 percent chance of predicting the correct label. "
   ]
  },
  {
   "cell_type": "markdown",
   "metadata": {
    "papermill": {
     "duration": 0.021081,
     "end_time": "2020-11-15T05:50:42.663901",
     "exception": false,
     "start_time": "2020-11-15T05:50:42.642820",
     "status": "completed"
    },
    "tags": []
   },
   "source": [
    "# Extracting features from CSV file"
   ]
  },
  {
   "cell_type": "code",
   "execution_count": 2,
   "metadata": {
    "execution": {
     "iopub.execute_input": "2020-11-15T05:50:42.714000Z",
     "iopub.status.busy": "2020-11-15T05:50:42.713201Z",
     "iopub.status.idle": "2020-11-15T05:50:42.739487Z",
     "shell.execute_reply": "2020-11-15T05:50:42.738508Z"
    },
    "papermill": {
     "duration": 0.054698,
     "end_time": "2020-11-15T05:50:42.739647",
     "exception": false,
     "start_time": "2020-11-15T05:50:42.684949",
     "status": "completed"
    },
    "tags": []
   },
   "outputs": [
    {
     "name": "stdout",
     "output_type": "stream",
     "text": [
      "Size of total data : 1599\n"
     ]
    }
   ],
   "source": [
    "file_name = \"/kaggle/input/red-wine-quality-cortez-et-al-2009/winequality-red.csv\"\n",
    "\n",
    "with open(file_name,'r') as csvfile:\n",
    "    reader = csv.DictReader(csvfile, restkey = None, restval = None, dialect = 'excel')\n",
    "\n",
    "    # list() takes a single argument. Could be a sequence (string, tuples) or collection (set, dictionary)\n",
    "    # Reads the entire file into RAM. \n",
    "    data = list(reader)\n",
    "\n",
    "    # Takes a sequence (list,string,tuple) and reorganize the order of the items\n",
    "    random.shuffle(data)\n",
    "\n",
    "list_len = len(data)\n",
    "print('Size of total data : {}'.format(list_len))"
   ]
  },
  {
   "cell_type": "markdown",
   "metadata": {
    "papermill": {
     "duration": 0.021612,
     "end_time": "2020-11-15T05:50:42.784236",
     "exception": false,
     "start_time": "2020-11-15T05:50:42.762624",
     "status": "completed"
    },
    "tags": []
   },
   "source": [
    "# Data Scaling"
   ]
  },
  {
   "cell_type": "markdown",
   "metadata": {
    "papermill": {
     "duration": 0.021752,
     "end_time": "2020-11-15T05:50:42.829613",
     "exception": false,
     "start_time": "2020-11-15T05:50:42.807861",
     "status": "completed"
    },
    "tags": []
   },
   "source": [
    "Normalization of data is important in binary classification because the ouput node is a sigmoid activation function. In sigmoid activation functions any large negative input results in activity becoming very close to 0. This will hamper values calculated during backpropagation. Scaling down the feature data to lie between 0 and 1 will scale down the inputs into the sigmoid activation function and hence the outputs produced will lie in the range 0 to 1. To see this for yourself comment normalization of feature data and see how the inputs into the sigmoid activation function change and the corresponding outputs.\n",
    "\n",
    "## Min-Max scaling of data\n",
    "\n",
    "### $$ z = \\dfrac{x - min(x)}{max(x) - min(x)} $$\n",
    "\n",
    "Here 'x' is input feature and 'z' represents the scaled feature. "
   ]
  },
  {
   "cell_type": "code",
   "execution_count": 3,
   "metadata": {
    "execution": {
     "iopub.execute_input": "2020-11-15T05:50:42.910696Z",
     "iopub.status.busy": "2020-11-15T05:50:42.894889Z",
     "iopub.status.idle": "2020-11-15T05:50:42.923959Z",
     "shell.execute_reply": "2020-11-15T05:50:42.922879Z"
    },
    "papermill": {
     "duration": 0.072312,
     "end_time": "2020-11-15T05:50:42.924106",
     "exception": false,
     "start_time": "2020-11-15T05:50:42.851794",
     "status": "completed"
    },
    "tags": []
   },
   "outputs": [
    {
     "name": "stdout",
     "output_type": "stream",
     "text": [
      "[[ 8.4    0.635  0.36  ...  3.31   0.57  10.4  ]\n",
      " [ 6.6    0.7    0.08  ...  3.44   0.58  10.2  ]\n",
      " [ 8.     0.48   0.34  ...  3.28   0.66  12.4  ]\n",
      " ...\n",
      " [ 7.6    0.35   0.6   ...  3.38   0.79  11.1  ]\n",
      " [ 9.5    0.57   0.27  ...  3.27   0.55   9.4  ]\n",
      " [ 7.8    0.52   0.25  ...  3.43   0.65   9.   ]]\n",
      "[4.6     0.12    0.      0.9     0.012   1.      6.      0.99007 2.74\n",
      " 0.33    8.4    ]\n",
      "[ 15.9       1.58      1.       15.5       0.611    72.      289.\n",
      "   1.00369   4.01      2.       14.9    ]\n",
      "Data head :\n",
      "[[0.33628319 0.17699115 0.30088496 ... 0.26548673 0.43362832 0.28318584]\n",
      " [0.35273973 0.39726027 0.24657534 ... 0.15753425 0.30821918 0.2739726 ]\n",
      " [0.36       0.08       0.34       ... 0.6        0.27       0.25      ]\n",
      " ...\n",
      " [0.4488189  0.5511811  0.42519685 ... 0.50393701 0.41732283 0.54330709]\n",
      " [0.14371257 0.1497006  0.19760479 ... 0.2754491  0.13173653 0.19161677]\n",
      " [0.30769231 0.27692308 0.61538462 ... 0.41538462 0.15384615 0.09230769]]\n",
      "\n",
      "\n",
      "Quality vector : \n",
      "[[0 0 0 ... 0 0 0]]\n",
      "\n",
      "\n",
      "Shape of feature matrix : (11, 1599)\n",
      "Shape of quality matrix : (1, 1599)\n"
     ]
    }
   ],
   "source": [
    "# Feature matrix \n",
    "X = np.zeros((list_len,11), dtype = float)\n",
    "# Quality vector \n",
    "Y = np.zeros((list_len,1), dtype = float)\n",
    "\n",
    "# Transfer data into respective feature vectors\n",
    "for i in range(0,list_len):\n",
    "    # data is a list of dictionaries. data[i] is a dictionary. data[i].values provides the values to the corresponding keys. list(data[i].values) converts it into a list\n",
    "    values = list(data[i].values())\n",
    "\n",
    "    X[i,0] = values[0]\n",
    "    X[i,1] = values[1]\n",
    "    X[i,2] = values[2]\n",
    "    X[i,3] = values[3]\n",
    "    X[i,4] = values[4]\n",
    "    X[i,5] = values[5]\n",
    "    X[i,6] = values[6]\n",
    "    X[i,7] = values[7]\n",
    "    X[i,8] = values[8]\n",
    "    X[i,9] = values[9]\n",
    "    X[i,10] = values[10]\n",
    "    Y[i,0] = values[11]\n",
    "    \n",
    "print(X)\n",
    "\n",
    "print(np.amin(X,axis=0))\n",
    "\n",
    "print(np.amax(X,axis=0))\n",
    "    \n",
    "# Normalizing the data in feature matrix\n",
    "X = (X - np.amin(X,axis=0))/(np.amax(X,axis=0) - np.amin(X,axis=0))\n",
    "# X = X/np.amax(X,axis=0)\n",
    "    \n",
    "# Arranging data such that each column has one training example.\n",
    "X = X.T\n",
    "    \n",
    "print(\"Data head :\")\n",
    "print(X)\n",
    "print(\"\\n\")\n",
    "\n",
    "# If quality score is >= 7 we classify it as good quality wine (1).\n",
    "# If quality score is < 7 we classify it is as poor quality wine (0).\n",
    "\n",
    "# MODIFY WHAT IS GOOD QUALITY WINE OVER HERE\n",
    "\n",
    "Y = np.where(Y >= 7,1,0)\n",
    "Y = Y.T\n",
    "\n",
    "print(\"Quality vector : \")\n",
    "print(Y)\n",
    "print(\"\\n\")\n",
    "\n",
    "print(\"Shape of feature matrix : \" + str(X.shape))\n",
    "print(\"Shape of quality matrix : \" + str(Y.shape))"
   ]
  },
  {
   "cell_type": "markdown",
   "metadata": {
    "papermill": {
     "duration": 0.021726,
     "end_time": "2020-11-15T05:50:42.968154",
     "exception": false,
     "start_time": "2020-11-15T05:50:42.946428",
     "status": "completed"
    },
    "tags": []
   },
   "source": [
    "# Data split into training and testing sets"
   ]
  },
  {
   "cell_type": "code",
   "execution_count": 4,
   "metadata": {
    "execution": {
     "iopub.execute_input": "2020-11-15T05:50:43.026595Z",
     "iopub.status.busy": "2020-11-15T05:50:43.025438Z",
     "iopub.status.idle": "2020-11-15T05:50:43.029132Z",
     "shell.execute_reply": "2020-11-15T05:50:43.029779Z"
    },
    "papermill": {
     "duration": 0.038927,
     "end_time": "2020-11-15T05:50:43.029939",
     "exception": false,
     "start_time": "2020-11-15T05:50:42.991012",
     "status": "completed"
    },
    "tags": []
   },
   "outputs": [
    {
     "name": "stdout",
     "output_type": "stream",
     "text": [
      " X Train data shape : (11, 1119)\n",
      " X Test data shape : (11, 480)\n",
      " Y Train data shape : (1, 1119)\n",
      " Y Test data shape : (1, 480)\n"
     ]
    }
   ],
   "source": [
    "# Enter train split (1 - 10)\n",
    "train_split = 7\n",
    "\n",
    "X_train = X[:,0:train_split*(X.shape[1])//10]\n",
    "X_test = X[:,train_split*X.shape[1]//10:X.shape[1]]\n",
    "\n",
    "Y_train = Y[:,0:train_split*(Y.shape[1])//10]\n",
    "Y_test = Y[:,train_split*(Y.shape[1])//10:Y.shape[1]]\n",
    "\n",
    "assert((X_train.shape[1] + X_test.shape[1]) == list_len)\n",
    "\n",
    "X_train_data_len = X_train.shape\n",
    "print(' X Train data shape : {}'.format(X_train_data_len))\n",
    "X_test_data_len = X_test.shape\n",
    "print(' X Test data shape : {}'.format(X_test_data_len))\n",
    "Y_train_data_len = Y_train.shape\n",
    "print(' Y Train data shape : {}'.format(Y_train_data_len))\n",
    "Y_test_data_len = Y_test.shape\n",
    "print(' Y Test data shape : {}'.format(Y_test_data_len))"
   ]
  },
  {
   "cell_type": "markdown",
   "metadata": {
    "papermill": {
     "duration": 0.023336,
     "end_time": "2020-11-15T05:50:43.076124",
     "exception": false,
     "start_time": "2020-11-15T05:50:43.052788",
     "status": "completed"
    },
    "tags": []
   },
   "source": [
    "# Maths behind forward propagation and backward propagation"
   ]
  },
  {
   "cell_type": "markdown",
   "metadata": {
    "papermill": {
     "duration": 0.02232,
     "end_time": "2020-11-15T05:50:43.121186",
     "exception": false,
     "start_time": "2020-11-15T05:50:43.098866",
     "status": "completed"
    },
    "tags": []
   },
   "source": [
    "## Weights and biases\n",
    "\n",
    "Before the data is passed into the activation function it is acted upon by weights and biases. \n",
    "\n",
    "### $$ Z = WX + b $$  \n",
    "\n",
    "Weights and biases are used to segregate the input space. Weights adjust the slope while biases move the slope so that each node/neuron in the hidden layer focuses on one aspect of the input space. \n",
    "\n",
    "****\n",
    "\n",
    "## Loss function\n",
    "\n",
    "Cross entropy loss or log loss measures the performance of a classification model whose output is  a probability value between 0 and 1. Mean squared loss function is generally used in linear or polynomial regression problems. \n",
    "\n",
    "The log loss function for binary and multi class classification is as follows :\n",
    "\n",
    "### Binary $$ -(ylog(p) + (1-y)log(1-p)) $$\n",
    "\n",
    "### Multiclass $$ -\\sum_{c=1}^{M} y_{c}log(p_{c}) $$\n",
    "\n",
    "Here c stands for class and y and p are the binary indicators and predicted probability observation. Here we will use binary classification to classify the wines into two categories good quality and bad quality.\n",
    "\n",
    "****\n",
    "\n",
    "## Why do you need non linear activation functions ?\n",
    "\n",
    "Suppose you have a linear activation function in the hidden layer and output layer. The square brackets denote the layer in you are in. 1 for the hidden layer and 2 for output layer.\n",
    "\n",
    "### $$ Z^{[1]} = W^{[1]}X + b^{[1]} $$\n",
    "### $$ a^{[1]} = Z^{[1]} $$\n",
    "### $$ Z^{[2]} = W^{[2]}(W^{[1]}X + b^{[1]}) + b^{[2]} $$\n",
    "### $$ a^{[2]} = Z^{[2]} = W^{[2]}W^{[1]}X + W^{[2]}b^{[1]} + b^{[2]} = W^{'}X + b^{'} $$\n",
    "\n",
    "So the output is essentially a linear function of the input and does not create appropriate decision boundaries required for complex data sets. If you have only a sigmoid as the non linear activation function in the ouput then it is again a simple logistic regression problem and there is no need for any hidden leayers.\n",
    "\n",
    "ReLU is a non linear activation function because it does not have a constant slope. For Z < 0 the slope of the function is 0, at 0 the slope of function is not defined and for Z > 0 the slope of function is 1.\n",
    "\n",
    "****\n",
    "\n",
    "## Different types of activation functions\n",
    "\n",
    "The activation functions can be different for different layers.The below functions are plotted with Z as input and a as output and g(Z) is the mapping function between Z and a.\n",
    "\n",
    "### $$ Z = w^{T}X + b $$\n",
    "### $$ a = g(Z) $$\n",
    "\n",
    "### SIGMOID FUNCTION\n",
    "\n",
    "### $$ a = \\dfrac{1}{1 + e^{-Z}} $$\n",
    "\n",
    "* The Sigmoid function is not centered about 0.\n",
    "* For large value or small value of Z the slope of the function is 0 and hence the rate of learning decreases.\n",
    "* Use sigmoid in the output layer when you are doing binary classification as sigmoid outputs lie between 0 and 1 but dont use for hidden layers.\n",
    "* Derivative of sigmoid function is :\n",
    "\n",
    "### $$ \\dfrac{da}{dZ} = \\dfrac{e^{Z}}{(1 + e^{-Z})^2} = \\dfrac{1 +e^{-Z}}{(1 + e^{-Z})^2} - \\dfrac{1}{(1 + e^{-Z})^2} = a - a^2 = a(1-a) $$\n"
   ]
  },
  {
   "cell_type": "code",
   "execution_count": 5,
   "metadata": {
    "execution": {
     "iopub.execute_input": "2020-11-15T05:50:43.176765Z",
     "iopub.status.busy": "2020-11-15T05:50:43.176021Z",
     "iopub.status.idle": "2020-11-15T05:50:43.450321Z",
     "shell.execute_reply": "2020-11-15T05:50:43.450873Z"
    },
    "papermill": {
     "duration": 0.306897,
     "end_time": "2020-11-15T05:50:43.451031",
     "exception": false,
     "start_time": "2020-11-15T05:50:43.144134",
     "status": "completed"
    },
    "tags": []
   },
   "outputs": [
    {
     "data": {
      "image/png": "[encoded data removed]",
      "text/plain": [
       "<Figure size 432x288 with 1 Axes>"
      ]
     },
     "metadata": {
      "needs_background": "light"
     },
     "output_type": "display_data"
    }
   ],
   "source": [
    "Z = np.arange(-10,10,0.1)\n",
    "plt.plot(Z,1/(1 + np.exp(-Z)),Z,(1/(1 + np.exp(-Z)))*(1 - 1/(1 + np.exp(-Z))))\n",
    "plt.axvline(x=0,color='r')\n",
    "plt.axhline(y=0,color='r')\n",
    "plt.ylabel('a',fontsize=14)\n",
    "plt.xlabel('Z',fontsize=14)\n",
    "plt.legend(('a=g(Z)','da/dZ'))\n",
    "plt.show()"
   ]
  },
  {
   "cell_type": "markdown",
   "metadata": {
    "papermill": {
     "duration": 0.023606,
     "end_time": "2020-11-15T05:50:43.498625",
     "exception": false,
     "start_time": "2020-11-15T05:50:43.475019",
     "status": "completed"
    },
    "tags": []
   },
   "source": [
    "### HYPERBOLIC TAN FUNCTION\n",
    "\n",
    "### $$ a = tanh(Z) = \\dfrac{e^{Z} - e^{-Z}}{e^{Z} + e^{-Z}} $$\n",
    "\n",
    "* The tanh function is centered about 0 and has a steeper slope.\n",
    "* For large value or small value of Z the slope of the function is 0 and hence the rate of learning decreases. \n",
    "* It is generally used in the hidden layers as it values lie between -1 to 1 hence the mean for the  hidden layer comes out to be 0 or very close to 0 and hence which helps in centering the data making the learning easier for the next layer.\n",
    "* Derivative of tanh function is :\n",
    "\n",
    "### $$ \\dfrac{da}{dZ} = \\dfrac{(e^{Z} + e^{-Z})^2 - (e^{Z} - e^{-Z})^2}{(e^{Z} + e^{-Z})^2} = 1 - a^2 $$"
   ]
  },
  {
   "cell_type": "code",
   "execution_count": 6,
   "metadata": {
    "execution": {
     "iopub.execute_input": "2020-11-15T05:50:43.557335Z",
     "iopub.status.busy": "2020-11-15T05:50:43.554970Z",
     "iopub.status.idle": "2020-11-15T05:50:43.772737Z",
     "shell.execute_reply": "2020-11-15T05:50:43.772097Z"
    },
    "papermill": {
     "duration": 0.250453,
     "end_time": "2020-11-15T05:50:43.772857",
     "exception": false,
     "start_time": "2020-11-15T05:50:43.522404",
     "status": "completed"
    },
    "tags": []
   },
   "outputs": [
    {
     "data": {
      "image/png": "[encoded data removed]",
      "text/plain": [
       "<Figure size 432x288 with 1 Axes>"
      ]
     },
     "metadata": {
      "needs_background": "light"
     },
     "output_type": "display_data"
    }
   ],
   "source": [
    "Z = np.arange(-10,10,0.1)\n",
    "plt.plot(Z,(np.exp(Z) - np.exp(-Z))/(np.exp(Z) + np.exp(-Z)),Z,1 - ((np.exp(Z) - np.exp(-Z))/(np.exp(Z) + np.exp(-Z)))**2)\n",
    "plt.axvline(x=0,color='r')\n",
    "plt.axhline(y=0,color='r')\n",
    "plt.ylabel('a',fontsize=14)\n",
    "plt.xlabel('Z',fontsize=14)\n",
    "plt.legend(('a=g(Z)','da/dZ'))\n",
    "plt.show()"
   ]
  },
  {
   "cell_type": "markdown",
   "metadata": {
    "papermill": {
     "duration": 0.024956,
     "end_time": "2020-11-15T05:50:43.823480",
     "exception": false,
     "start_time": "2020-11-15T05:50:43.798524",
     "status": "completed"
    },
    "tags": []
   },
   "source": [
    "### RECTIFIED LINEAR UNITS AND LEAKY RECTIFIED LINEAR UNITS\n",
    "\n",
    "### $$ a = max(0,Z) $$ \n",
    "\n",
    "* It is a peice wise function where for Z <= 0 then a = 0 and for Z > 0 then a = Z. It ranges from 0 to $ \\infty $\n",
    "* ReLU is less computationally expensive than tanh and sigmoid beacause it involves simpler mathematical operations. It avoids and rectifies the vanishing gradient problem.\n",
    "* Its limitation is that it should be used only within hidden layers of a neural network model. The default activation function for hidden layers is ReLU.\n",
    "* It avoids and rectifies the vanishing gradient problem. \n",
    "\n",
    "The vanishing gradient problem is encountered when training neural nets with gradient based learning methods and backpropagation. In such methods, each of the neural network's weights recieve an update proportional to the partial derivative of the error function with respective to the current weight in each iteration of training Wi = Wi + learning_rate*(dJ/dWi). The problem is that in some cases, the gradient will be vanishingly small, effectively preventing the weight from changing its value. In the worst case, this may completely stop the network from further training. For example, activation functions like tanh have gradients in the range from 0 to 1 and backpropagation computes gradients by the chain rule. This has the effect of multiplying 'n' of these small numbers to compute gradients of the \"front layers\" in an n-layer netowork, meaning the gradient decreses exponentially with n while the front layers train very slowly.\n",
    "\n",
    "* A problem with ReLU is that half of the space of Z is less than 0 and this can result in dead neurons with no weight update hence to overcome this problem leaky ReLU is used. In most cases most of the hidden units will have Z greater than 0."
   ]
  },
  {
   "cell_type": "code",
   "execution_count": 7,
   "metadata": {
    "execution": {
     "iopub.execute_input": "2020-11-15T05:50:43.894110Z",
     "iopub.status.busy": "2020-11-15T05:50:43.893289Z",
     "iopub.status.idle": "2020-11-15T05:50:44.281702Z",
     "shell.execute_reply": "2020-11-15T05:50:44.280876Z"
    },
    "papermill": {
     "duration": 0.43348,
     "end_time": "2020-11-15T05:50:44.281835",
     "exception": false,
     "start_time": "2020-11-15T05:50:43.848355",
     "status": "completed"
    },
    "tags": []
   },
   "outputs": [
    {
     "data": {
      "image/png": "[encoded data removed]",
      "text/plain": [
       "<Figure size 432x288 with 1 Axes>"
      ]
     },
     "metadata": {
      "needs_background": "light"
     },
     "output_type": "display_data"
    },
    {
     "data": {
      "image/png": "[encoded data removed]",
      "text/plain": [
       "<Figure size 432x288 with 1 Axes>"
      ]
     },
     "metadata": {
      "needs_background": "light"
     },
     "output_type": "display_data"
    }
   ],
   "source": [
    "Z = np.arange(-10,10,0.1)\n",
    "relu = np.where(Z<=0,0,Z)\n",
    "relu_der = np.where(Z<=0,0,1)\n",
    "leaky_relu = np.where(Z<=0,0.05*Z,Z)\n",
    "leaky_relu_der = np.where(Z<=0,0.05,1)\n",
    "\n",
    "plt.plot(Z,relu,Z,relu_der)\n",
    "plt.title('ReLU')\n",
    "plt.axvline(x=0,color='r')\n",
    "plt.axhline(y=0,color='r')\n",
    "plt.ylabel('a',fontsize=14)\n",
    "plt.xlabel('Z',fontsize=14)\n",
    "plt.legend(('a=g(Z)','da/dZ'))\n",
    "plt.show()\n",
    "            \n",
    "plt.plot(Z,leaky_relu,Z,leaky_relu_der)\n",
    "plt.title('Leaky ReLU')\n",
    "plt.axvline(x=0,color='r')\n",
    "plt.axhline(y=0,color='r')\n",
    "plt.ylabel('a',fontsize=14)\n",
    "plt.xlabel('Z',fontsize=14)\n",
    "plt.legend(('a=g(Z)','da/dZ'))\n",
    "plt.show()\n",
    "        "
   ]
  },
  {
   "cell_type": "markdown",
   "metadata": {
    "papermill": {
     "duration": 0.027038,
     "end_time": "2020-11-15T05:50:44.335927",
     "exception": false,
     "start_time": "2020-11-15T05:50:44.308889",
     "status": "completed"
    },
    "tags": []
   },
   "source": [
    "## Computing gradients in a three layer Neural Net and generalizing to n layer Neural Net\n",
    "\n",
    "### NOTATION\n",
    "\n",
    "1. X is the input and is also represented as activation in zeroth layer $ a$\n",
    "2. \"Z\" is a linear function operating on the input data whose output is input into a non linear function called the activation function denoted by \"a\". Different types include tanh, sigmoid and relu. \n",
    "3. $ \\sigma(Z) $ is sigmoid activation function for output layer. Sigmoid is used beacause we are doing binary classification.\n",
    "4. $ W_{3}^{[3](i)} $ the number at the top in the square brackets denote the weights in third layer and the number in the round brackets denotes the ith training example. The number at the bottom tells us which node the weights correspond to.\n",
    "5. * represents element wise multiplication.\n",
    "\n",
    "### FORWARD PROPAGATION\n",
    "\n",
    "#### Layer 1 Linear function \n",
    "### $$ Z^{[1]} = W^{[1]}X + b^{[1]} $$\n",
    "#### Layer 1 Activation function\n",
    "### $$ a^{[1]} = g(Z^{[1]}) $$\n",
    "#### Layer 2 Linear function\n",
    "### $$ Z^{[2]} = W^{[2]}a^{[1]} + b^{[2]} $$\n",
    "#### Layer 2 Activation function \n",
    "### $$ a^{[2]} = g(Z^{[2]}) $$\n",
    "#### Layer 3 Linear function\n",
    "### $$ Z^{[3]} = W^{[3]}a^{[2]} + b^{[3]} $$\n",
    "#### Layer 3 Activation function\n",
    "### $$ a^{[3]} = \\sigma(Z^{[3]}) $$\n",
    "#### Layer 'l' Linear function\n",
    "### $$ Z^{[l]} = W^{[l]}a^{[l-1]} + b^{[l]} $$\n",
    "#### LAYER 'l' Activation function\n",
    "### $$ a^{[l]} = \\sigma(Z^{[l]}) $$\n",
    "\n",
    "#### Log Loss / Cross Entropy function \n",
    "### $$ L(a^{[n]},y) = -\\dfrac{1}{m} \\sum_{i=1}^{m}[y^{(i)}log(a^{[n](i)}) + (1 - y^{(i)})log(1 - a^{[n](i)})] $$\n",
    "\n",
    "The loss is computed for each sum and is then summed across all training examples and finally divided by number of training examples.\n",
    "\n",
    "### BACKWARD PROPAGATION\n",
    "\n",
    "#### Layer 3 Backpropagation\n",
    "### $$ \\dfrac{dL}{da^{[3]}} = \\dfrac{-y}{a^{[3]}} + \\dfrac{(1-y)}{(1-a^{[3]})} = \\dfrac{-1}{m}\\dfrac{a^{[3]} - y}{a^{[3]}(1 - a^{[3]})} $$\n",
    "### $$ \\dfrac{dL}{dW^{[3]}} = \\dfrac{dL}{da^{[3]}}\\dfrac{da^{[3]}}{dZ^{[3]}}\\dfrac{dZ^{[3]}}{dW^{[3]}} = (\\dfrac{dL}{da^{[3]}}*g^{'}(Z^{[3]}))a^{[2]T} $$\n",
    "### $$ \\dfrac{dL}{db^{[3]}} = \\dfrac{dL}{da^{[3]}}\\dfrac{da^{[3]}}{dZ^{[3]}}\\dfrac{dZ^{[3]}}{db^{[3]}} = \\dfrac{dL}{da^{[3]}}*g^{'}(Z^{[3]}) $$\n",
    "\n",
    "#### Layer 2 Backpropagation\n",
    "### $$ \\dfrac{dL}{da^{[2]}} = \\dfrac{dL}{da^{[3]}}\\dfrac{da^{[3]}}{dZ^{[3]}}\\dfrac{dZ^{[3]}}{da^{[2]}} = W^{[3]T}(\\dfrac{dL}{da^{[3]}}*g^{'}(Z^{[3]})) $$\n",
    "### $$ \\dfrac{dL}{dW^{[2]}} = \\dfrac{dL}{da^{[2]}}\\dfrac{da^{[2]}}{dZ^{[2]}}\\dfrac{dZ^{[2]}}{dW^{[2]}} = (\\dfrac{dL}{da^{[2]}}*g^{'}(Z^{[2]}))a^{[1]T} $$\n",
    "### $$ \\dfrac{dL}{db^{[2]}} = \\dfrac{dL}{da^{[2]}}\\dfrac{da^{[2]}}{dZ^{[2]}}\\dfrac{dZ^{[2]}}{db^{[2]}} = \\dfrac{dL}{da^{[2]}}*g^{'}(Z^{[2]}) $$\n",
    "\n",
    "#### Layer 1 Backpropagation\n",
    "### $$ \\dfrac{dL}{da^{[1]}} = \\dfrac{dL}{da^{[2]}}\\dfrac{da^{[2]}}{dZ^{[2]}}\\dfrac{dZ^{[2]}}{da^{[1]}} = W^{[2]T}(\\dfrac{dL}{da^{[2]}}*g^{'}(Z^{[2]})) $$\n",
    "### $$ \\dfrac{dL}{dW^{[1]}} = \\dfrac{dL}{da^{[1]}}\\dfrac{da^{[1]}}{dZ^{[1]}}\\dfrac{dZ^{[1]}}{dW^{[1]}} = (\\dfrac{dL}{da^{[1]}}*g^{'}(Z^{[1]}))a^{[0]T} $$\n",
    "### $$ \\dfrac{dL}{db^{[1]}} = \\dfrac{dL}{da^{[1]}}\\dfrac{da^{[1]}}{dZ^{[1]}}\\dfrac{dZ^{[1]}}{db^{[1]}} = \\dfrac{dL}{da^{[1]}}*g^{'}(Z^{[1]}) $$\n",
    "\n",
    "#### Layer 'l' Backpropagation\n",
    "### $$ \\dfrac{dL}{da^{[l]}} = W^{[l+1]T}(\\dfrac{dL}{da^{[l+1]}}*g^{'}(Z^{[l+1]}))$$\n",
    "### $$ \\dfrac{dL}{dW^{[l]}} = (\\dfrac{dL}{da^{[l]}}*g^{'}(Z^{[l]}))a^{[l-1]T} $$\n",
    "### $$ \\dfrac{dL}{db^{[l]}} = \\dfrac{dL}{da^{[l]}}*g^{'}(Z^{[l]}) $$\n",
    "\n",
    "*** \n",
    "\n",
    "### MATRIX DIMENSIONS\n",
    "\n",
    "Let $n_x$, $n_{h1}$, $n_{h2}$, $n_y$ denote the number of nodes in input, hidden layer 1, hidden layer 2 and output layer. Let 'm' be the number of training examples. \n",
    "\n",
    "Lets see the dimensions of the weight, biases and activation matrices.\n",
    "\n",
    "* X has dimensions [$n_x$, m] \n",
    "\n",
    "* Y has dimensions [$n_y$, m] \n",
    "\n",
    "* $ W^{[1]} $ has dimensions [$n_{h1}$, $n_x$]\n",
    "\n",
    "* $ b^{[1]} $ has dimensions [$n_{h1}$, 1]. \n",
    "\n",
    "* $ a^{[1]} $ has dimensions [$n_{h1}$, m]. \n",
    "\n",
    "* $ W^{[2]} $ has dimensions [$n_{h2}$, $n_{h1}$]\n",
    "\n",
    "* $ b^{[2]} $ has dimensions [$n_{h2}$, 1].\n",
    "\n",
    "* $ a^{[2]} $ has dimensions [$n_{h2}$, m].\n",
    "\n",
    "* $ W^{[3]} $ has dimensions [$n_y$, $n_{h2}$]\n",
    "\n",
    "* $ b^{[3]} $ has dimensions [$n_y$, 1]\n",
    "\n",
    "* $ a^{[3]} $ has dimensions [$n_y$, m].\n",
    "\n",
    "* **The weight matrix in the lth layer has dimensions as follows [number of hidden units in lth layer, number of hidden units in (l-1)th layer]. The bias vector in the lth layer has the dimensions as follows [number of hidden units in lth layer, 1]. The bias vector is broadcasted so that it can be added to WX when calculating Z.** \n",
    "\n",
    "Lets see the dimensions of the derivatives\n",
    "\n",
    "* The dimensions of any Loss derivative with respect to activation must have the same dimensions of the activation marix in the corresponding layer. So for example $ \\dfrac{dL}{da^{[3]}} $, $ \\dfrac{dL}{da^{[2]}} $, $ \\dfrac{dL}{da^{[1]}} $ have dimensions [$n_y$, m], [$n_{h2}$, m], [$n_{h1}$, m] respectively. Let us prove this for $ \\dfrac{dL}{da^{[2]}} $. Looking at its formula we see that $ W^{[3]T} $ has dimensions [$n_{h2}$, $n_y$] while $ \\dfrac{dL}{da^{[3]}} $ has dimensions of [$n_y$, m] and $ g^{'}(Z^{[3]}) $ has dimensions [$n_y$, m]. $ \\dfrac{dL}{da^{[3]}} $ and $ g^{'}(Z^{[3]}) $ are multiplied element wise and the output undergoes dot product multiplication with $ W^{[3]T} $.\n",
    "\n",
    "* The dimensions of any Loss derivative with respect to weights must have the same dimensions of the weights matrix in the corresponding layer. So for example $ \\dfrac{dL}{dW^{[3]}} $, $ \\dfrac{dL}{dW^{[2]}} $, $ \\dfrac{dL}{dW^{[1]}} $ have dimensions [$n_y$, $n_{h2}$], [$n_{h2}$, $n_{h1}$], [$n_h1$, $n_x$] respectively. Let us prove this for $ \\dfrac{dL}{dW^{[2]}} $. Looking at its formula we see that $ \\dfrac{dL}{da^{[2]}} $ has dimensions [$n_{h2}$, m] and $ g^{'}(Z^{[2]} $ has dimensions [$n_{h2}$, m] and $ a^{[1]T} $ has dimensions [m, $n_{h1}$]. $ \\dfrac{dL}{da^{[2]}} $ and $ g^{'}(Z^{[2]} $ is multiplied element wise and the output undergoes dot product multiplication with $ a^{[1]T} $.\n",
    "\n",
    "* The dimensions of any Loss derivative with respect to bias must have the same dimensions as that of the bias vector in the corresponding layer. So for example $ \\dfrac{dL}{db^{[3]}} $, $ \\dfrac{dL}{db^{[2]}} $, $ \\dfrac{dL}{db^{[1]}} $ have dimensions [$n_y$, 1], [$n_{h2}$, 1], [$n_h1$, 1] respectively. Let us prove this for $ \\dfrac{dL}{db^{[2]}} $. Looking at its formula formula we see that $ \\dfrac{dL}{da^{[2]}} $ has dimensions [$n_{h2}$, m] and $ g^{'}(Z^{[2]} $ has dimensions [$n_{h2}$, m]. We use np.sum() function and sum it across all columns so that we get a column vector.\n",
    "\n",
    "Consider an 'n' layered neural net. When computing derivative of Loss with respect to weight $ W^{[n]} $ then you take the derivative of the activation function and multiply by input to activation whereas while taking derivative of Loss with respect to $  W^{[1]} $ then there is a compounding effect. That is why changes in weights to first layer is the slowest if sigmoid or tanh activation function is used in hidden layer giving rise to the vanishing gradient problem.\n",
    "\n",
    "****\n",
    "\n",
    "## Random initialization of weights\n",
    "\n",
    "When having multi layer neural net intializing all weights to 0 does not work. This can be understood by the following example. Consider a neural net with two inputs and two hidden nodes and one output. Node 1 In hidden layer has weights $ W_1^{[1]} $ [0,0] and node two in hidden layer has weights $ W_2^{[1]} $ [0,0] and b is initialized to 0 for both of them. Output node has weight $ W_1^{[2]} $ [0,0] and b is intialized to 0. The weights for the activation for node 1 is $a_1^{[1]}$ and is given by $ g(W_1^{[1]}X + b_1^{[1]}) $ similarly for $a_2^{[1]}$ it is $ g(W_2^{[1]}X + b_2^{[1]}) $. Substituting the zero weights in the activation functions we get $a_1^{[1]}$ == $a_2^{[1]}$ and $a^{[1]} = [0;0] $. From the above formula of $ \\dfrac{dL}{dW^{[1]}} $ we can see that weights in $ W^{[1]} $ will be updated the same $ W^{[1]} = W^{[1]} - \\alpha\\dfrac{dL}{dW^{[1]}} $ as they both started from same value.  Hence the two hidden units will behave as 1 hidden unit. As iterations continue both the weights of the hidden units will be updated the same. \n",
    "\n",
    "This is solved by using $W^{[1]}$ = np.random.randn()x0.01. We multiply with 0.01 or any other small constant when using sigmoid or tanh activation function as we want the value of Z input into the activation function to be small otherwise large inputs lead to gradients close to 0 and the optimization algorithm will become slow leading to problem of vanishing gradient. However if you are not using sigmoid or tanh activation functions this is not a problem. Also if we have many deep layers the constant you choose will vary but for shallow neural nets (2 layers deep) using 0.01 is fine.\n",
    "\n",
    "However if Logistic Regression (no hidden layer) then can intialize all weights to 0. The first example X fed in the logistic regression will output zero but the derivatives of the Logistic Regression depend on the input X (because there's no hidden layer) which is not zero. So at the second iteration, the weights values follow X's distribution and are different from each other if X is not a constant vector. "
   ]
  },
  {
   "cell_type": "markdown",
   "metadata": {
    "papermill": {
     "duration": 0.027391,
     "end_time": "2020-11-15T05:50:44.391300",
     "exception": false,
     "start_time": "2020-11-15T05:50:44.363909",
     "status": "completed"
    },
    "tags": []
   },
   "source": [
    "# The Neural Network architecture"
   ]
  },
  {
   "cell_type": "code",
   "execution_count": 8,
   "metadata": {
    "execution": {
     "iopub.execute_input": "2020-11-15T05:50:44.627730Z",
     "iopub.status.busy": "2020-11-15T05:50:44.620108Z",
     "iopub.status.idle": "2020-11-15T05:50:44.631419Z",
     "shell.execute_reply": "2020-11-15T05:50:44.630698Z"
    },
    "papermill": {
     "duration": 0.212332,
     "end_time": "2020-11-15T05:50:44.631579",
     "exception": false,
     "start_time": "2020-11-15T05:50:44.419247",
     "status": "completed"
    },
    "tags": []
   },
   "outputs": [],
   "source": [
    "# Computes sigmoid activation.\n",
    "def sigmoid(Z):\n",
    "    \n",
    "    A = 1/(1 + np.exp(-Z))\n",
    "    \n",
    "    return A\n",
    "\n",
    "def sigmoid_der(A):\n",
    "    \n",
    "    dAdZ = A*(1-A)\n",
    "    \n",
    "    return dAdZ\n",
    "\n",
    "def relu(Z):\n",
    "    \n",
    "    A = np.maximum(0,Z)\n",
    "    \n",
    "    return A\n",
    "\n",
    "def relu_der(A):\n",
    "    \n",
    "    dAdZ = np.where(A>0,1,0)\n",
    "    \n",
    "    return dAdZ\n",
    "\n",
    "def initialize_parameters(dims):\n",
    "    \n",
    "    n = len(dims)\n",
    "    params = {}\n",
    "    \n",
    "    for l in range(1,n):\n",
    "        params[\"W\"+str(l)] = np.random.randn(dims[l],dims[l-1])*0.1\n",
    "        params[\"b\"+str(l)] = np.zeros((dims[l],1),dtype=float)\n",
    "        \n",
    "    return params\n",
    "\n",
    "# Forward propagation function\n",
    "# caches architecture : [A_prev[l-1],W[l],b[l],A[l]]\n",
    "def forward_propagation(params,A):\n",
    "    \n",
    "    # Number of layers\n",
    "    L = len(params) // 2\n",
    "    caches = []\n",
    "    \n",
    "    for l in range(1,L):\n",
    "        # 1st hidden layer to L-1th hidden layer is relu\n",
    "        A_prev = A\n",
    "        Z = np.dot(params[\"W\"+str(l)],A_prev) + params[\"b\"+str(l)]\n",
    "        linear_cache = (A_prev,params[\"W\"+str(l)],params[\"b\"+str(l)])\n",
    "        A = relu(Z)\n",
    "        cache = (linear_cache,A)\n",
    "        caches.append(cache)\n",
    "        \n",
    "    # Final output layer is sigmoid layer \n",
    "    A_prev = A\n",
    "    Z = np.dot(params[\"W\"+str(L)],A_prev) + params[\"b\"+str(L)]\n",
    "    linear_cache = (A_prev,params[\"W\"+str(L)],params[\"b\"+str(L)])\n",
    "#     print(\"Input into sigmoid function : \")\n",
    "#     print(\"\\n\")\n",
    "#     print(Z)\n",
    "    AL = sigmoid(Z)\n",
    "#     print(\"\\n\")\n",
    "#     print(\"Output from sigmoid function : \")\n",
    "#     print(\"\\n\")\n",
    "#     print(AL)\n",
    "#     print(\"\\n\")\n",
    "    cache = (linear_cache,AL)\n",
    "    caches.append(cache)\n",
    "        \n",
    "    return AL, caches\n",
    "\n",
    "# Cost function - Cross Entropy Loss Function\n",
    "def compute_cost(AL,Y):\n",
    "    \n",
    "    # Number of training examples\n",
    "    m = Y.shape[1]\n",
    "    \n",
    "    cost = -np.sum(np.multiply(Y,np.log(AL)) + np.multiply(1-Y,np.log(1-AL)), axis=1, keepdims=True)/m\n",
    "    \n",
    "    cost = np.squeeze(cost)\n",
    "    \n",
    "    return cost\n",
    "\n",
    "# Backward propogation function \n",
    "def backward_propagation(AL,Y,caches):\n",
    "    \n",
    "    grads = {}\n",
    "    \n",
    "    # Number of layers\n",
    "    L = len(caches)\n",
    "    \n",
    "    # Number of training examples\n",
    "    m = Y.shape[1]\n",
    "    \n",
    "    # Derivative of Loss with respect to Activation of last layer\n",
    "    dAL = -(np.divide(Y,AL) - np.divide(1-Y,1-AL))/m\n",
    "    # Calculating the derivatives of Loss with respect to weights and biases of last layer.\n",
    "    last_cache = caches[L-1]\n",
    "    # Extracting the linear cache and Activation in the last layer\n",
    "    linear_cache, A = last_cache\n",
    "    # Linear cache has the following components : A_prev, Weights and biases in last layer\n",
    "    A_prev, W ,b = linear_cache\n",
    "    grads[\"dA\"+str(L)] = dAL\n",
    "    grads[\"dW\"+str(L)] = np.dot(np.multiply(grads[\"dA\"+str(L)],sigmoid_der(A)),A_prev.T)\n",
    "    grads[\"db\"+str(L)] = np.sum(np.multiply(grads[\"dA\"+str(L)],sigmoid_der(A)),axis=1,keepdims=True)\n",
    "    \n",
    "    for l in range(L-1,0,-1):\n",
    "        if l == L-1:\n",
    "            grads[\"dA\"+str(l)] = np.dot(W.T,np.multiply(grads[\"dA\"+str(l+1)],sigmoid_der(A)))\n",
    "        else:\n",
    "            grads[\"dA\"+str(l)] = np.dot(W.T,np.multiply(grads[\"dA\"+str(l+1)],relu_der(A)))           \n",
    "        current_cache = caches[l-1]\n",
    "        linear_cache, A = current_cache\n",
    "        A_prev, W, b = linear_cache\n",
    "        grads[\"dW\"+str(l)] = np.dot(grads[\"dA\"+str(l)]*relu_der(A),A_prev.T)\n",
    "        grads[\"db\"+str(l)] = np.sum(grads[\"dA\"+str(l)]*relu_der(A),axis=1,keepdims=True)\n",
    "        \n",
    "    return grads\n",
    "\n",
    "# Updating the weights and biases \n",
    "def update_parameters(params, grads, learning_rate):\n",
    "    \n",
    "    # Number of layers in model\n",
    "    L = len(params) // 2\n",
    "    \n",
    "    for l in range(1,L):\n",
    "        params[\"W\"+str(l)] = params[\"W\"+str(l)] - learning_rate*grads[\"dW\"+str(l)]\n",
    "        params[\"b\"+str(l)] = params[\"b\"+str(l)] - learning_rate*grads[\"db\"+str(l)]\n",
    "        \n",
    "    return params\n",
    "\n",
    "# Predicting the \n",
    "def predict(params,X):\n",
    "    \n",
    "    AL,cache = forward_propagation(params,X)\n",
    "    predictions = np.where(AL>0.5,1,0)"
   ]
  },
  {
   "cell_type": "markdown",
   "metadata": {
    "papermill": {
     "duration": 0.027512,
     "end_time": "2020-11-15T05:50:44.686380",
     "exception": false,
     "start_time": "2020-11-15T05:50:44.658868",
     "status": "completed"
    },
    "tags": []
   },
   "source": [
    "Using all the above functions in the model function which the user will invoke"
   ]
  },
  {
   "cell_type": "code",
   "execution_count": 9,
   "metadata": {
    "execution": {
     "iopub.execute_input": "2020-11-15T05:50:44.755535Z",
     "iopub.status.busy": "2020-11-15T05:50:44.754448Z",
     "iopub.status.idle": "2020-11-15T05:50:44.757810Z",
     "shell.execute_reply": "2020-11-15T05:50:44.757221Z"
    },
    "papermill": {
     "duration": 0.043677,
     "end_time": "2020-11-15T05:50:44.757954",
     "exception": false,
     "start_time": "2020-11-15T05:50:44.714277",
     "status": "completed"
    },
    "tags": []
   },
   "outputs": [],
   "source": [
    "def model(X,Y,dims,learning_rate,num_iterations,print_cost=True):\n",
    "    \n",
    "    costs = []\n",
    "    \n",
    "    # Takes input only dimensions of each layer\n",
    "    params = initialize_parameters(dims)\n",
    "    \n",
    "    for i in range(0, num_iterations):\n",
    "        \n",
    "        # Forward propogation; inputs : parameters, X ; outputs : last layer activation, cache\n",
    "        AL, caches = forward_propagation(params,X)\n",
    "        \n",
    "        # Computing cost; inputs : AL, Y; outputs : cost\n",
    "        cost = compute_cost(AL,Y)\n",
    "        \n",
    "        # Backward propogation; inputs : AL, Y, cache ; outputs : grads\n",
    "        grads = backward_propagation(AL,Y,caches)\n",
    "        \n",
    "        # Update parameter; inputs : parameters, gradients; outputs : updated parameters\n",
    "        params = update_parameters(params,grads,learning_rate)\n",
    "        \n",
    "        if print_cost and i%100 == 0:\n",
    "            print(\"Cost after iteration %i: %f\" %(i,cost))\n",
    "            costs.append(cost)\n",
    "    \n",
    "    # Plotting the cost\n",
    "    plt.plot(np.squeeze(costs))\n",
    "    plt.ylabel('cost')\n",
    "    plt.xlabel('number of iterations')\n",
    "    plt.title('Learning rate : '+ str(learning_rate))\n",
    "    plt.show()\n",
    "    \n",
    "    return params\n",
    "    "
   ]
  },
  {
   "cell_type": "markdown",
   "metadata": {
    "papermill": {
     "duration": 0.031126,
     "end_time": "2020-11-15T05:50:44.820421",
     "exception": false,
     "start_time": "2020-11-15T05:50:44.789295",
     "status": "completed"
    },
    "tags": []
   },
   "source": [
    "# Run model function here"
   ]
  },
  {
   "cell_type": "code",
   "execution_count": 10,
   "metadata": {
    "execution": {
     "iopub.execute_input": "2020-11-15T05:50:44.884633Z",
     "iopub.status.busy": "2020-11-15T05:50:44.883869Z",
     "iopub.status.idle": "2020-11-15T05:50:50.019498Z",
     "shell.execute_reply": "2020-11-15T05:50:50.018648Z"
    },
    "papermill": {
     "duration": 5.170779,
     "end_time": "2020-11-15T05:50:50.019677",
     "exception": false,
     "start_time": "2020-11-15T05:50:44.848898",
     "status": "completed"
    },
    "tags": []
   },
   "outputs": [
    {
     "name": "stdout",
     "output_type": "stream",
     "text": [
      "Cost after iteration 0: 0.690046\n",
      "Cost after iteration 100: 0.385876\n",
      "Cost after iteration 200: 0.368758\n",
      "Cost after iteration 300: 0.344993\n",
      "Cost after iteration 400: 0.319835\n",
      "Cost after iteration 500: 0.302688\n",
      "Cost after iteration 600: 0.293960\n",
      "Cost after iteration 700: 0.289094\n",
      "Cost after iteration 800: 0.286013\n",
      "Cost after iteration 900: 0.283946\n",
      "Cost after iteration 1000: 0.282379\n",
      "Cost after iteration 1100: 0.281059\n",
      "Cost after iteration 1200: 0.279890\n",
      "Cost after iteration 1300: 0.278908\n",
      "Cost after iteration 1400: 0.278088\n",
      "Cost after iteration 1500: 0.277414\n",
      "Cost after iteration 1600: 0.276852\n",
      "Cost after iteration 1700: 0.276385\n",
      "Cost after iteration 1800: 0.275990\n",
      "Cost after iteration 1900: 0.275647\n",
      "Cost after iteration 2000: 0.275346\n",
      "Cost after iteration 2100: 0.275103\n",
      "Cost after iteration 2200: 0.274890\n",
      "Cost after iteration 2300: 0.274691\n",
      "Cost after iteration 2400: 0.274503\n",
      "Cost after iteration 2500: 0.274330\n",
      "Cost after iteration 2600: 0.274171\n",
      "Cost after iteration 2700: 0.274018\n",
      "Cost after iteration 2800: 0.273856\n",
      "Cost after iteration 2900: 0.273712\n",
      "Cost after iteration 3000: 0.273565\n",
      "Cost after iteration 3100: 0.273429\n",
      "Cost after iteration 3200: 0.273299\n",
      "Cost after iteration 3300: 0.273162\n",
      "Cost after iteration 3400: 0.273014\n",
      "Cost after iteration 3500: 0.272874\n",
      "Cost after iteration 3600: 0.272732\n",
      "Cost after iteration 3700: 0.272578\n",
      "Cost after iteration 3800: 0.272383\n",
      "Cost after iteration 3900: 0.272193\n",
      "Cost after iteration 4000: 0.272022\n",
      "Cost after iteration 4100: 0.271862\n",
      "Cost after iteration 4200: 0.271699\n",
      "Cost after iteration 4300: 0.271529\n",
      "Cost after iteration 4400: 0.271357\n",
      "Cost after iteration 4500: 0.271174\n",
      "Cost after iteration 4600: 0.270979\n",
      "Cost after iteration 4700: 0.270784\n",
      "Cost after iteration 4800: 0.270574\n",
      "Cost after iteration 4900: 0.270349\n"
     ]
    },
    {
     "data": {
      "image/png": "[encoded data removed]",
      "text/plain": [
       "<Figure size 432x288 with 1 Axes>"
      ]
     },
     "metadata": {
      "needs_background": "light"
     },
     "output_type": "display_data"
    }
   ],
   "source": [
    "# You can play around with the learning rate and number of iterations and then press run all\n",
    "dims = [11,11,11,1]\n",
    "params = model(X_train,Y_train,dims,learning_rate=0.5,num_iterations=5000,print_cost=True)"
   ]
  },
  {
   "cell_type": "markdown",
   "metadata": {
    "papermill": {
     "duration": 0.036842,
     "end_time": "2020-11-15T05:50:50.096148",
     "exception": false,
     "start_time": "2020-11-15T05:50:50.059306",
     "status": "completed"
    },
    "tags": []
   },
   "source": [
    "# Input your own parameters and check if wine is good quality or not"
   ]
  },
  {
   "cell_type": "code",
   "execution_count": 11,
   "metadata": {
    "execution": {
     "iopub.execute_input": "2020-11-15T05:50:50.180167Z",
     "iopub.status.busy": "2020-11-15T05:50:50.179027Z",
     "iopub.status.idle": "2020-11-15T05:50:50.182518Z",
     "shell.execute_reply": "2020-11-15T05:50:50.181833Z"
    },
    "papermill": {
     "duration": 0.051131,
     "end_time": "2020-11-15T05:50:50.182639",
     "exception": false,
     "start_time": "2020-11-15T05:50:50.131508",
     "status": "completed"
    },
    "tags": []
   },
   "outputs": [],
   "source": [
    "# Enter the following values\n",
    "\n",
    "# Fixed acidity range (4.6 - 15.9) ; max = 15.9\n",
    "FA = 10\n",
    "# Volatile acidity range (0.12 - 1.58) ; max = 1.58\n",
    "VA = 0.5\n",
    "# Citric acid range (0 - 1) ; max = 1\n",
    "CA = 0.8\n",
    "# Residual sugars (0.9 - 15.5) ; max = 15.5\n",
    "RS = 10\n",
    "# Chlorides (0.01 - 0.61) ;  max = 0.61\n",
    "C = 0.03\n",
    "# Free sulphur dioxide (1 - 72) ; max = 72\n",
    "FS = 30\n",
    "# Total sulphure dioxide (6 - 289) ; max = 289\n",
    "TS = 50\n",
    "# Density (0.99 - 1) ; max = 1\n",
    "D = 0.9997\n",
    "# pH (2.74 - 4.01) ; max = 4.01\n",
    "PH = 3.5\n",
    "# Sulphates (0.33 - 2) ; max = 2\n",
    "S = 1.5\n",
    "# alcohol (8.4 - 14.9) ; max = 14.9\n",
    "A = 12\n",
    "\n",
    "user_X = np.zeros((11,1), dtype = float)\n",
    "user_X[0] = FA/15.9\n",
    "user_X[1] = VA/1.58\n",
    "user_X[2] = CA/1\n",
    "user_X[3] = RS/15.5\n",
    "user_X[4] = C/0.61\n",
    "user_X[5] = FS/72\n",
    "user_X[6] = TS/289\n",
    "user_X[7] = D/1\n",
    "user_X[8] = PH/4.01\n",
    "user_X[9] = S/2\n",
    "user_X[10] = A/14.9\n",
    "    \n"
   ]
  },
  {
   "cell_type": "markdown",
   "metadata": {
    "papermill": {
     "duration": 0.035996,
     "end_time": "2020-11-15T05:50:50.257249",
     "exception": false,
     "start_time": "2020-11-15T05:50:50.221253",
     "status": "completed"
    },
    "tags": []
   },
   "source": [
    "# Parameters vs Hyper parameters\n",
    "\n",
    "Applied deep learning is a very empirical process.\n",
    "\n",
    "Parameters are weights and biases\n",
    "\n",
    "Exmaples of hyperparameters are :\n",
    "\n",
    "1. Learning rate $ \\alpha $\n",
    "2. number of iterations\n",
    "3. number of hidden layers\n",
    "4. number of hidden units\n",
    "5. choice of activation function"
   ]
  },
  {
   "cell_type": "markdown",
   "metadata": {
    "papermill": {
     "duration": 0.041645,
     "end_time": "2020-11-15T05:50:50.334664",
     "exception": false,
     "start_time": "2020-11-15T05:50:50.293019",
     "status": "completed"
    },
    "tags": []
   },
   "source": [
    "Feel free to refer to these amazing links which I have referred to build this model.\n",
    "\n",
    "1. Andrew NG Coursera : Neural Network and Deep Learning\n",
    "2. https://github.com/stephencwelch/Neural-Networks-Demystified/blob/master/Part%201%20Data%20and%20Architecture.ipynb\n",
    "3. http://www.wildml.com/2015/09/implementing-a-neural-network-from-scratch/"
   ]
  }
 ],
 "metadata": {
  "kernelspec": {
   "display_name": "Python 3",
   "language": "python",
   "name": "python3"
  },
  "language_info": {
   "codemirror_mode": {
    "name": "ipython",
    "version": 3
   },
   "file_extension": ".py",
   "mimetype": "text/x-python",
   "name": "python",
   "nbconvert_exporter": "python",
   "pygments_lexer": "ipython3",
   "version": "3.7.6"
  },
  "papermill": {
   "duration": 20.781838,
   "end_time": "2020-11-15T05:50:50.488785",
   "environment_variables": {},
   "exception": null,
   "input_path": "__notebook__.ipynb",
   "output_path": "__notebook__.ipynb",
   "parameters": {},
   "start_time": "2020-11-15T05:50:29.706947",
   "version": "2.1.0"
  }
 },
 "nbformat": 4,
 "nbformat_minor": 4
}
